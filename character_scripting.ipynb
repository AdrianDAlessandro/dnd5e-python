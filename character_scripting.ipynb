{
 "cells": [
  {
   "cell_type": "markdown",
   "metadata": {},
   "source": [
    "# Test Driven Development of Character class layout\n",
    "\n",
    "This notebook serves two purposes:\n",
    "- To develop the program (layout of classes, data structures, etc) for the interactive character sheet\n",
    "- To provide an example of test driven development\n",
    "\n",
    "## Objective\n",
    "\n",
    "We want to be able to initialise/create a Character object that can return all of the essential information about about the D&D Character. It should also be able to level up and contain methods for all actions in combat.\n",
    "\n",
    "## List of Requirements (Update this over time)\n",
    "1. Initialise a `Character` object\n",
    "2. Initialiase `Character` with some details\n",
    "    - A string for each of: `name`, `race`, and `character_class`\n",
    "    - An integer for `level`, which defaults to 1\n",
    "3. Make it that `Character` \"has a\" `Race` and \"has a\" `CharacterClass`\n",
    "    - Each is a class of it's own\n",
    "    - Build in the ability to check the string with a `__str__` method\n",
    "4. Further develop the `Race` class\n",
    "    - It has subclasses for each race from D&D 5e\n",
    "    - The `__str__` method returns the race name\n",
    "5. Further develop the `CharacterClass` class\n",
    "    - It has subclasses for each character class from D&D 5e\n",
    "    - The `__str__` method returns the character class name\n",
    "6. Initialise a `Player` class which \"is a\" `Character`\n",
    "7. Initialise a `NonPlayer` class which \"is a\" `Character`\n",
    "8. Initialise a `Weapon` class\n",
    "9. Initialise a `Spell` class\n",
    "10. Initialise an `Ability` class\n",
    "    - `Ability` has the `check()` method and `modifier` and `score` properties\n",
    "11. Each ability (`Strength` etc...) is a subclass of `Ability`\n",
    "12. Each `Ability` subclass has skills\n",
    "    - Skills and saving throws are kept in a dictionary called `proficiencies`\n",
    "    - `proficiencies` key:value pairs are all `skill : <bool>`\n",
    "13. Initialise a `Background` class\n",
    "   - Contains a list of `proficiencies` and a description string\n",
    "14. Each `Character` has a list of `Abilities`\n",
    "   - The abilities for each character have scores and proficiencies\n",
    "   - The proficiencies for each character are determined by the `Race`, `CharacterClass` and `Background`\n",
    "   - `Race` and `CharacterClass` each have a list of `proficiencies` (or a list to choose from), just like in `Background`\n",
    "15. Include function to create a custom `Race` and a `CharacterClass`\n",
    "16. "
   ]
  },
  {
   "cell_type": "markdown",
   "metadata": {
    "slideshow": {
     "slide_type": "fragment"
    }
   },
   "source": [
    "#### First, import the testing modules:"
   ]
  },
  {
   "cell_type": "code",
   "execution_count": 1,
   "metadata": {},
   "outputs": [],
   "source": [
    "# Set the file name for unit testing iwth ipytest\n",
    "__file__ = \"character_scripting.ipynb\"\n",
    "\n",
    "import pytest\n",
    "import ipytest.magics"
   ]
  },
  {
   "cell_type": "markdown",
   "metadata": {},
   "source": [
    "## 1. Initialise a `Character` object"
   ]
  },
  {
   "cell_type": "markdown",
   "metadata": {},
   "source": [
    "#### Make sure the tests are defined *before* the main code is written:"
   ]
  },
  {
   "cell_type": "code",
   "execution_count": 7,
   "metadata": {},
   "outputs": [
    {
     "name": "stdout",
     "output_type": "stream",
     "text": [
      "============================= test session starts =============================\n",
      "platform win32 -- Python 3.6.5, pytest-3.7.1, py-1.5.4, pluggy-0.7.1 -- c:\\users\\dal189\\documents\\dnd5e-python\\env\\scripts\\python.exe\n",
      "cachedir: .pytest_cache\n",
      "rootdir: C:\\Users\\dal189\\Documents\\dnd5e-python, inifile:\n",
      "collecting ... collected 1 item\n",
      "\n",
      "character_scripting.py::test_Character_can_be_created <- <ipython-input-7-24813ad9a017> FAILED [100%]\n",
      "\n",
      "================================== FAILURES ===================================\n",
      "<ipython-input-7-24813ad9a017>:3: NameError: name 'Character' is not defined\n",
      "========================== 1 failed in 0.10 seconds ===========================\n"
     ]
    }
   ],
   "source": [
    "%%run_pytest -v --tb=line\n",
    "\n",
    "def test_Character_can_be_created():\n",
    "    assert Character()"
   ]
  },
  {
   "cell_type": "markdown",
   "metadata": {},
   "source": [
    "#### Test failed (because we are yet to define `Character`). \"Refactor\" the code:"
   ]
  },
  {
   "cell_type": "code",
   "execution_count": 8,
   "metadata": {},
   "outputs": [
    {
     "name": "stdout",
     "output_type": "stream",
     "text": [
      "============================= test session starts =============================\n",
      "platform win32 -- Python 3.6.5, pytest-3.7.1, py-1.5.4, pluggy-0.7.1\n",
      "rootdir: C:\\Users\\dal189\\Documents\\dnd5e-python, inifile:\n",
      "collected 1 item\n",
      "\n",
      "character_scripting.py .                                                 [100%]\n",
      "\n",
      "========================== 1 passed in 0.06 seconds ===========================\n"
     ]
    }
   ],
   "source": [
    "%%run_pytest\n",
    "\n",
    "class Character(object):\n",
    "    pass"
   ]
  },
  {
   "cell_type": "markdown",
   "metadata": {},
   "source": [
    "### [This process](https://en.wikipedia.org/wiki/Test-driven_development#Test-driven_development_cycle) should be repeated for each new requirement\n",
    "1. **Write** the test(s)\n",
    "```python\n",
    "def test_<test_description>():\n",
    "    # Some code (potentially)\n",
    "    assert true_statement\n",
    "```\n",
    "2. **Run** the tests\n",
    "```python\n",
    "%%run_pytest -v --tb=line\n",
    "```\n",
    "3. **Refactor** (update or write new code - including tests) until all tests pass\n",
    "4. **Repeat** for the next requirement"
   ]
  },
  {
   "cell_type": "markdown",
   "metadata": {},
   "source": [
    "## 2. Initialiase `Character` with some details\n",
    "- A string for each of: `name`, `race`, and `character_class`\n",
    "- An integer for `level`, which defaults to 1"
   ]
  },
  {
   "cell_type": "markdown",
   "metadata": {},
   "source": [
    "1. **Write** the test(s)"
   ]
  },
  {
   "cell_type": "code",
   "execution_count": 9,
   "metadata": {},
   "outputs": [
    {
     "name": "stdout",
     "output_type": "stream",
     "text": [
      "============================= test session starts =============================\n",
      "platform win32 -- Python 3.6.5, pytest-3.7.1, py-1.5.4, pluggy-0.7.1 -- c:\\users\\dal189\\documents\\dnd5e-python\\env\\scripts\\python.exe\n",
      "cachedir: .pytest_cache\n",
      "rootdir: C:\\Users\\dal189\\Documents\\dnd5e-python, inifile:\n",
      "collecting ... collected 3 items\n",
      "\n",
      "character_scripting.py::test_Character_can_be_created <- <ipython-input-7-24813ad9a017> PASSED [ 33%]\n",
      "character_scripting.py::test_Character_fields <- <ipython-input-9-72fcd976dc44> FAILED [ 66%]\n",
      "character_scripting.py::test_Character_for_level_default <- <ipython-input-9-72fcd976dc44> FAILED [100%]\n",
      "\n",
      "================================== FAILURES ===================================\n",
      "<ipython-input-9-72fcd976dc44>:6: TypeError: object() takes no parameters\n",
      "<ipython-input-9-72fcd976dc44>:17: TypeError: object() takes no parameters\n",
      "===================== 2 failed, 1 passed in 0.17 seconds ======================\n"
     ]
    }
   ],
   "source": [
    "%%run_pytest -v --tb=line\n",
    "\n",
    "def test_Character_fields():\n",
    "\n",
    "    field_list = [\"name\", \"_race\", \"character_class\", \"level\"]\n",
    "    inputs = \"Merret\",\"Halfling\",\"Ranger\", 8\n",
    "    test_character = Character(*inputs) # * operator unpacks tuple (** for dict)\n",
    "    test_fields = [field for field in dir(test_character)]\n",
    "    \n",
    "    for inpt, field in zip(inputs, field_list):\n",
    "        if field not in test_fields:\n",
    "            assert getattr(test_character, field)\n",
    "        elif inpt != getattr(test_character,field):\n",
    "            assert inpt == getattr(test_character,field)\n",
    "    assert True\n",
    "\n",
    "def test_Character_for_level_default():\n",
    "    assert 1 == Character(\"Merret\",\"Halfling\",\"Ranger\").level"
   ]
  },
  {
   "cell_type": "markdown",
   "metadata": {},
   "source": [
    "2. **Run** the tests"
   ]
  },
  {
   "cell_type": "code",
   "execution_count": 10,
   "metadata": {},
   "outputs": [
    {
     "name": "stdout",
     "output_type": "stream",
     "text": [
      "============================= test session starts =============================\n",
      "platform win32 -- Python 3.6.5, pytest-3.7.1, py-1.5.4, pluggy-0.7.1 -- c:\\users\\dal189\\documents\\dnd5e-python\\env\\scripts\\python.exe\n",
      "cachedir: .pytest_cache\n",
      "rootdir: C:\\Users\\dal189\\Documents\\dnd5e-python, inifile:\n",
      "collecting ... collected 3 items\n",
      "\n",
      "character_scripting.py::test_Character_can_be_created <- <ipython-input-7-24813ad9a017> FAILED [ 33%]\n",
      "character_scripting.py::test_Character_fields <- <ipython-input-9-72fcd976dc44> PASSED [ 66%]\n",
      "character_scripting.py::test_Character_for_level_default <- <ipython-input-9-72fcd976dc44> PASSED [100%]\n",
      "\n",
      "================================== FAILURES ===================================\n",
      "<ipython-input-7-24813ad9a017>:3: TypeError: __init__() missing 3 required positional arguments: 'name', 'race', and 'character_class'\n",
      "===================== 1 failed, 2 passed in 0.15 seconds ======================\n"
     ]
    }
   ],
   "source": [
    "%%run_pytest -v --tb=line\n",
    "\n",
    "class Character(object):\n",
    "    \n",
    "    def __init__(self, name, race, character_class, level=1):\n",
    "        self.name = name\n",
    "        self._race = race\n",
    "        self.character_class = character_class\n",
    "        self.level = level"
   ]
  },
  {
   "cell_type": "markdown",
   "metadata": {},
   "source": [
    "3. **Refactor** - The initial test does not include any inputs to `Character`. Include default values."
   ]
  },
  {
   "cell_type": "code",
   "execution_count": 11,
   "metadata": {},
   "outputs": [
    {
     "name": "stdout",
     "output_type": "stream",
     "text": [
      "============================= test session starts =============================\n",
      "platform win32 -- Python 3.6.5, pytest-3.7.1, py-1.5.4, pluggy-0.7.1 -- c:\\users\\dal189\\documents\\dnd5e-python\\env\\scripts\\python.exe\n",
      "cachedir: .pytest_cache\n",
      "rootdir: C:\\Users\\dal189\\Documents\\dnd5e-python, inifile:\n",
      "collecting ... collected 3 items\n",
      "\n",
      "character_scripting.py::test_Character_can_be_created <- <ipython-input-7-24813ad9a017> PASSED [ 33%]\n",
      "character_scripting.py::test_Character_fields <- <ipython-input-9-72fcd976dc44> PASSED [ 66%]\n",
      "character_scripting.py::test_Character_for_level_default <- <ipython-input-9-72fcd976dc44> PASSED [100%]\n",
      "\n",
      "========================== 3 passed in 0.12 seconds ===========================\n"
     ]
    }
   ],
   "source": [
    "%%run_pytest -v --tb=line\n",
    "\n",
    "class Character(object):\n",
    "    \n",
    "    def __init__(self, name=\"Merret\", race=\"Halfling\",\n",
    "                 character_class=\"Ranger\", level=1):\n",
    "        self.name = name\n",
    "        self._race = race\n",
    "        self.character_class = character_class\n",
    "        self.level = level"
   ]
  },
  {
   "cell_type": "markdown",
   "metadata": {},
   "source": [
    "## 3. Make it that `Character` \"has a\" `Race` and \"has a\" `CharacterClass`\n",
    "- Each is a class of it's own\n",
    "- Build in the ability to check the string with a `__str__` method"
   ]
  },
  {
   "cell_type": "code",
   "execution_count": 12,
   "metadata": {},
   "outputs": [],
   "source": [
    "def test_Character_has_a_Race():\n",
    "    assert isinstance(Character()._race, Race)\n",
    "def test_Character_has_a_CharacterClass():\n",
    "    assert isinstance(Character().character_class, CharacterClass)"
   ]
  },
  {
   "cell_type": "code",
   "execution_count": 13,
   "metadata": {},
   "outputs": [
    {
     "name": "stdout",
     "output_type": "stream",
     "text": [
      "============================= test session starts =============================\n",
      "platform win32 -- Python 3.6.5, pytest-3.7.1, py-1.5.4, pluggy-0.7.1 -- c:\\users\\dal189\\documents\\dnd5e-python\\env\\scripts\\python.exe\n",
      "cachedir: .pytest_cache\n",
      "rootdir: C:\\Users\\dal189\\Documents\\dnd5e-python, inifile:\n",
      "collecting ... collected 5 items\n",
      "\n",
      "character_scripting.py::test_Character_has_a_Race <- <ipython-input-12-58755c1bd107> PASSED [ 20%]\n",
      "character_scripting.py::test_Character_has_a_CharacterClass <- <ipython-input-12-58755c1bd107> PASSED [ 40%]\n",
      "character_scripting.py::test_Character_can_be_created <- <ipython-input-7-24813ad9a017> PASSED [ 60%]\n",
      "character_scripting.py::test_Character_fields <- <ipython-input-9-72fcd976dc44> FAILED [ 80%]\n",
      "character_scripting.py::test_Character_for_level_default <- <ipython-input-9-72fcd976dc44> PASSED [100%]\n",
      "\n",
      "================================== FAILURES ===================================\n",
      "<ipython-input-9-72fcd976dc44>:13: AssertionError: assert 'Halfling' == <__main__.Race object at 0x000001CCE1D3DB00>\n",
      "===================== 1 failed, 4 passed in 0.23 seconds ======================\n"
     ]
    }
   ],
   "source": [
    "%%run_pytest -v --tb=line\n",
    "\n",
    "class Race(object):\n",
    "    \n",
    "    def __init__(self, race):\n",
    "        self._race = race\n",
    "    \n",
    "    def __str__(self):\n",
    "        return self._race\n",
    "\n",
    "\n",
    "class CharacterClass(object):\n",
    "    \n",
    "    def __init__(self, character_class):\n",
    "        self.character_class = character_class\n",
    "    \n",
    "    def __str__(self):\n",
    "        return self.character_class\n",
    "\n",
    "\n",
    "class Character(object):\n",
    "    \n",
    "    def __init__(self, name=\"Merret\", race=\"Halfling\",\n",
    "                 character_class=\"Ranger\", level=1):\n",
    "        self.name = name\n",
    "        self._race = Race(race) # Changed Line\n",
    "        self.character_class = CharacterClass(character_class) # Changed Line\n",
    "        self.level = level\n"
   ]
  },
  {
   "cell_type": "markdown",
   "metadata": {},
   "source": [
    "#### The new requirement breaks the `test_Character_fields` test. Refactor the tests to make use of the `__str__` method:"
   ]
  },
  {
   "cell_type": "code",
   "execution_count": 14,
   "metadata": {},
   "outputs": [
    {
     "name": "stdout",
     "output_type": "stream",
     "text": [
      "============================= test session starts =============================\n",
      "platform win32 -- Python 3.6.5, pytest-3.7.1, py-1.5.4, pluggy-0.7.1\n",
      "rootdir: C:\\Users\\dal189\\Documents\\dnd5e-python, inifile:\n",
      "collected 5 items\n",
      "\n",
      "character_scripting.py .....                                             [100%]\n",
      "\n",
      "========================== 5 passed in 0.09 seconds ===========================\n"
     ]
    }
   ],
   "source": [
    "%%run_pytest\n",
    "\n",
    "def test_Character_fields():\n",
    "\n",
    "    field_list = [\"name\", \"_race\", \"character_class\", \"level\"]\n",
    "    inputs = \"Merret\",\"Halfling\",\"Ranger\", 8\n",
    "    test_character = Character(*inputs) # * operator unpacks tuple (** for dict)\n",
    "    test_fields = [field for field in dir(test_character)]\n",
    "    \n",
    "    for inpt, field in zip(inputs, field_list):\n",
    "        if field not in test_fields:\n",
    "            assert getattr(test_character, field)\n",
    "        # Refactor here:\n",
    "        elif str(inpt) != str(getattr(test_character,field)):\n",
    "            assert str(inpt) == str(getattr(test_character,field))\n",
    "    assert True"
   ]
  },
  {
   "cell_type": "markdown",
   "metadata": {},
   "source": [
    "## 4. Further develop the `Race` class\n",
    "   - It has subclasses for each race from D&D 5e\n",
    "   - The `__str__` method returns the race name"
   ]
  },
  {
   "cell_type": "code",
   "execution_count": 89,
   "metadata": {},
   "outputs": [],
   "source": [
    "# Is a Race\n",
    "def test_Race_subclasses():\n",
    "\n",
    "    race_list = [\n",
    "        \"Dwarf\", \"Elf\", \"Halfling\", \"Human\", \"Dragonborn\",\n",
    "        \"Gnome\", \"HalfElf\", \"HalfOrc\", \"Tiefling\"\n",
    "    ]\n",
    "\n",
    "    subclasses = {cls.__name__ : cls() for cls in Race.__subclasses__()}\n",
    "\n",
    "    for race in race_list:\n",
    "        if race not in subclasses:\n",
    "            assert False, '{0} is not a subclass of Race'.format(race)\n",
    "        elif str(subclasses[race]) != race:\n",
    "            assert False, '{0} __str__ method is incorrect'.format(race)\n",
    "    assert True"
   ]
  },
  {
   "cell_type": "code",
   "execution_count": 91,
   "metadata": {},
   "outputs": [
    {
     "name": "stdout",
     "output_type": "stream",
     "text": [
      "============================= test session starts =============================\n",
      "platform win32 -- Python 3.6.5, pytest-3.7.1, py-1.5.4, pluggy-0.7.1\n",
      "rootdir: C:\\Users\\dal189\\Documents\\dnd5e-python, inifile:\n",
      "collected 14 items\n",
      "\n",
      "character_scripting.py ...FF.........                                    [100%]\n",
      "\n",
      "================================== FAILURES ===================================\n",
      "_________________________ test_Player_is_a_Character __________________________\n",
      "\n",
      "    def test_Player_is_a_Character():\n",
      ">       assert isinstance(Player(),Character)\n",
      "E       AssertionError\n",
      "\n",
      "<ipython-input-20-0e410eeb099a>:2: AssertionError\n",
      "________________________ test_NonPlayer_is_a_Character ________________________\n",
      "\n",
      "    def test_NonPlayer_is_a_Character():\n",
      ">       assert isinstance(NonPlayer(),Character)\n",
      "E       AssertionError\n",
      "\n",
      "<ipython-input-22-ec70e452f4ca>:2: AssertionError\n",
      "===================== 2 failed, 12 passed in 0.26 seconds =====================\n"
     ]
    }
   ],
   "source": [
    "%%run_pytest -v --tb=line\n",
    "\n",
    "class Race(object):\n",
    "    \n",
    "    def __init__(self):\n",
    "        pass\n",
    "    \n",
    "    def __str__(self):\n",
    "        return type(self).__name__ # returns the name of the class\n",
    "\n",
    "    \n",
    "class Dwarf(Race):\n",
    "    pass\n",
    "class Elf(Race):\n",
    "    pass\n",
    "class Halfling(Race):\n",
    "    pass\n",
    "class Human(Race):\n",
    "    pass\n",
    "class Dragonborn(Race):\n",
    "    pass\n",
    "class Gnome(Race):\n",
    "    pass\n",
    "class HalfElf(Race):\n",
    "    pass\n",
    "class HalfOrc(Race):\n",
    "    pass\n",
    "class Tiefling(Race):\n",
    "    pass\n"
   ]
  },
  {
   "cell_type": "markdown",
   "metadata": {},
   "source": [
    "#### Must update assignment of `_race` in `Character`"
   ]
  },
  {
   "cell_type": "code",
   "execution_count": 17,
   "metadata": {},
   "outputs": [
    {
     "name": "stdout",
     "output_type": "stream",
     "text": [
      "============================= test session starts =============================\n",
      "platform win32 -- Python 3.6.5, pytest-3.7.1, py-1.5.4, pluggy-0.7.1\n",
      "rootdir: C:\\Users\\dal189\\Documents\\dnd5e-python, inifile:\n",
      "collected 6 items\n",
      "\n",
      "character_scripting.py ......                                            [100%]\n",
      "\n",
      "========================== 6 passed in 0.09 seconds ===========================\n"
     ]
    }
   ],
   "source": [
    "%%run_pytest\n",
    "\n",
    "class Character(object):\n",
    "    \n",
    "    def __init__(self, name=\"Merret\", race=\"Halfling\",\n",
    "                 character_class=\"Ranger\", level=1):\n",
    "        self.name = name\n",
    "        self._race = globals()[race.title()]() # Changed Line\n",
    "        self.character_class = CharacterClass(character_class)\n",
    "        self.level = level\n"
   ]
  },
  {
   "cell_type": "markdown",
   "metadata": {},
   "source": [
    "## 5. Further develop the `CharacterClass` class\n",
    "   - It has subclasses for each character class from D&D 5e\n",
    "   - The `__str__` method returns the character class name\n",
    "   - Each subclass has a flag for if it is a spellcaster"
   ]
  },
  {
   "cell_type": "code",
   "execution_count": 105,
   "metadata": {},
   "outputs": [],
   "source": [
    "def test_CharacterClass_subclasses():\n",
    "\n",
    "    class_list = [\n",
    "        'Barbarian', 'Bard', 'Cleric', 'Druid', 'Fighter', 'Monk',\n",
    "        'Paladin', 'Ranger', 'Rogue', 'Sorcerer', 'Warlock', 'Wizard'\n",
    "    ]\n",
    "\n",
    "    subclasses = {cls.__name__ : cls() for cls in CharacterClass.__subclasses__()}\n",
    "\n",
    "    for cls in class_list:\n",
    "        # Is a Character Class\n",
    "        if cls not in subclasses:\n",
    "            assert False, '{0} is not a subclass of CharacterClass'.format(cls)\n",
    "        # __str__ method works properly\n",
    "        elif str(subclasses[cls]) != cls:\n",
    "            assert False, '{0} __str__ method is incorrect'.format(cls)\n",
    "        # Has spellcaster boolean\n",
    "        elif not isinstance(subclasses[cls].spellcaster,bool):\n",
    "            assert False, '{0}.spellcaster should be boolean'.format(cls)\n",
    "    assert True"
   ]
  },
  {
   "cell_type": "code",
   "execution_count": 86,
   "metadata": {},
   "outputs": [
    {
     "name": "stdout",
     "output_type": "stream",
     "text": [
      "============================= test session starts =============================\n",
      "platform win32 -- Python 3.6.5, pytest-3.7.1, py-1.5.4, pluggy-0.7.1\n",
      "rootdir: C:\\Users\\dal189\\Documents\\dnd5e-python, inifile:\n",
      "collected 14 items\n",
      "\n",
      "character_scripting.py ....FF........                                    [100%]\n",
      "\n",
      "================================== FAILURES ===================================\n",
      "_________________________ test_Player_is_a_Character __________________________\n",
      "\n",
      "    def test_Player_is_a_Character():\n",
      ">       assert isinstance(Player(),Character)\n",
      "E       AssertionError\n",
      "\n",
      "<ipython-input-20-0e410eeb099a>:2: AssertionError\n",
      "________________________ test_NonPlayer_is_a_Character ________________________\n",
      "\n",
      "    def test_NonPlayer_is_a_Character():\n",
      ">       assert isinstance(NonPlayer(),Character)\n",
      "E       AssertionError\n",
      "\n",
      "<ipython-input-22-ec70e452f4ca>:2: AssertionError\n",
      "===================== 2 failed, 12 passed in 0.25 seconds =====================\n"
     ]
    }
   ],
   "source": [
    "%%run_pytest\n",
    "\n",
    "class CharacterClass(object):\n",
    "    \n",
    "    def __init__(self, spellcaster=False):\n",
    "        self.spellcaster = spellcaster\n",
    "    \n",
    "    def __str__(self):\n",
    "        return type(self).__name__ # returns the name of the class\n",
    "\n",
    "    \n",
    "class Barbarian(CharacterClass):\n",
    "    def __init__(self):\n",
    "        super().__init__()\n",
    "\n",
    "class Bard(CharacterClass):\n",
    "    def __init__(self):\n",
    "        super().__init__(spellcaster=True)\n",
    "\n",
    "class Cleric(CharacterClass):\n",
    "    def __init__(self):\n",
    "        super().__init__(spellcaster=True)\n",
    "\n",
    "class Druid(CharacterClass):\n",
    "    def __init__(self):\n",
    "        super().__init__(spellcaster=True)\n",
    "\n",
    "class Fighter(CharacterClass):\n",
    "    def __init__(self):\n",
    "        super().__init__()\n",
    "\n",
    "class Monk(CharacterClass):\n",
    "    def __init__(self):\n",
    "        super().__init__()\n",
    "\n",
    "class Paladin(CharacterClass):\n",
    "    def __init__(self):\n",
    "        super().__init__(spellcaster=True)\n",
    "\n",
    "class Ranger(CharacterClass):\n",
    "    def __init__(self):\n",
    "        super().__init__(spellcaster=True)\n",
    "\n",
    "class Rogue(CharacterClass):\n",
    "    def __init__(self):\n",
    "        super().__init__()\n",
    "\n",
    "class Sorcerer(CharacterClass):\n",
    "    def __init__(self):\n",
    "        super().__init__(spellcaster=True)\n",
    "\n",
    "class Warlock(CharacterClass):\n",
    "    def __init__(self):\n",
    "        super().__init__(spellcaster=True)\n",
    "\n",
    "class Wizard(CharacterClass):\n",
    "    def __init__(self):\n",
    "        super().__init__(spellcaster=True)\n",
    "\n",
    "\n",
    "# Same problem will occur as when changing Race, so update assignment of\n",
    "# character_class in Character now\n",
    "class Character(object):\n",
    "    \n",
    "    def __init__(self, name=\"Merret\", race=\"Halfling\",\n",
    "                 character_class=\"Ranger\", level=1):\n",
    "        self.name = name\n",
    "        self._race = globals()[race.title()]()\n",
    "        self.character_class = globals()[character_class.title()]() # Changed\n",
    "        self.level = level\n"
   ]
  },
  {
   "cell_type": "markdown",
   "metadata": {},
   "source": [
    "## 6. Initialise a `Player` class which \"is a\" `Character`"
   ]
  },
  {
   "cell_type": "code",
   "execution_count": 92,
   "metadata": {},
   "outputs": [],
   "source": [
    "def test_Player_is_a_Character():\n",
    "    assert isinstance(Player(),Character)"
   ]
  },
  {
   "cell_type": "code",
   "execution_count": 93,
   "metadata": {},
   "outputs": [
    {
     "name": "stdout",
     "output_type": "stream",
     "text": [
      "============================= test session starts =============================\n",
      "platform win32 -- Python 3.6.5, pytest-3.7.1, py-1.5.4, pluggy-0.7.1\n",
      "rootdir: C:\\Users\\dal189\\Documents\\dnd5e-python, inifile:\n",
      "collected 14 items\n",
      "\n",
      "character_scripting.py ...F..........                                    [100%]\n",
      "\n",
      "================================== FAILURES ===================================\n",
      "________________________ test_NonPlayer_is_a_Character ________________________\n",
      "\n",
      "    def test_NonPlayer_is_a_Character():\n",
      ">       assert isinstance(NonPlayer(),Character)\n",
      "E       AssertionError\n",
      "\n",
      "<ipython-input-22-ec70e452f4ca>:2: AssertionError\n",
      "===================== 1 failed, 13 passed in 0.23 seconds =====================\n"
     ]
    }
   ],
   "source": [
    "%%run_pytest\n",
    "\n",
    "class Player(Character):\n",
    "    pass"
   ]
  },
  {
   "cell_type": "markdown",
   "metadata": {},
   "source": [
    "## 7. Initialise a `NonPlayer` class which \"is a\" `Character`"
   ]
  },
  {
   "cell_type": "code",
   "execution_count": 22,
   "metadata": {},
   "outputs": [],
   "source": [
    "def test_NonPlayer_is_a_Character():\n",
    "    assert isinstance(NonPlayer(),Character)"
   ]
  },
  {
   "cell_type": "code",
   "execution_count": 94,
   "metadata": {},
   "outputs": [
    {
     "name": "stdout",
     "output_type": "stream",
     "text": [
      "============================= test session starts =============================\n",
      "platform win32 -- Python 3.6.5, pytest-3.7.1, py-1.5.4, pluggy-0.7.1\n",
      "rootdir: C:\\Users\\dal189\\Documents\\dnd5e-python, inifile:\n",
      "collected 14 items\n",
      "\n",
      "character_scripting.py ..............                                    [100%]\n",
      "\n",
      "========================== 14 passed in 0.15 seconds ==========================\n"
     ]
    }
   ],
   "source": [
    "%%run_pytest\n",
    "\n",
    "class NonPlayer(Character):\n",
    "    pass"
   ]
  },
  {
   "cell_type": "markdown",
   "metadata": {},
   "source": [
    "## 8. Initialise a `Weapon` class"
   ]
  },
  {
   "cell_type": "code",
   "execution_count": 24,
   "metadata": {},
   "outputs": [],
   "source": [
    "def test_Weapon_can_be_created():\n",
    "    assert Weapon()"
   ]
  },
  {
   "cell_type": "code",
   "execution_count": 25,
   "metadata": {},
   "outputs": [
    {
     "name": "stdout",
     "output_type": "stream",
     "text": [
      "============================= test session starts =============================\n",
      "platform win32 -- Python 3.6.5, pytest-3.7.1, py-1.5.4, pluggy-0.7.1\n",
      "rootdir: C:\\Users\\dal189\\Documents\\dnd5e-python, inifile:\n",
      "collected 11 items\n",
      "\n",
      "character_scripting.py ...........                                       [100%]\n",
      "\n",
      "========================== 11 passed in 0.13 seconds ==========================\n"
     ]
    }
   ],
   "source": [
    "%%run_pytest\n",
    "\n",
    "class Weapon(object):\n",
    "    pass"
   ]
  },
  {
   "cell_type": "markdown",
   "metadata": {},
   "source": [
    "## 9. Initialise a `Spell` class"
   ]
  },
  {
   "cell_type": "code",
   "execution_count": 26,
   "metadata": {},
   "outputs": [],
   "source": [
    "def test_Spell_can_be_created():\n",
    "    assert Spell()"
   ]
  },
  {
   "cell_type": "code",
   "execution_count": 27,
   "metadata": {},
   "outputs": [
    {
     "name": "stdout",
     "output_type": "stream",
     "text": [
      "============================= test session starts =============================\n",
      "platform win32 -- Python 3.6.5, pytest-3.7.1, py-1.5.4, pluggy-0.7.1\n",
      "rootdir: C:\\Users\\dal189\\Documents\\dnd5e-python, inifile:\n",
      "collected 12 items\n",
      "\n",
      "character_scripting.py ............                                      [100%]\n",
      "\n",
      "========================== 12 passed in 0.13 seconds ==========================\n"
     ]
    }
   ],
   "source": [
    "%%run_pytest\n",
    "\n",
    "class Spell(object):\n",
    "    pass"
   ]
  },
  {
   "cell_type": "markdown",
   "metadata": {},
   "source": [
    "## 10. Initialise an `Ability` class\n",
    "   - `Ability` has the `check()` method and `modifier` and `score` properties"
   ]
  },
  {
   "cell_type": "code",
   "execution_count": 95,
   "metadata": {},
   "outputs": [],
   "source": [
    "def test_Ability_fields():\n",
    "\n",
    "    field_list = [\"check\", \"modifier\", \"score\"]\n",
    "    test_fields = [field for field in dir(Ability())]\n",
    "    \n",
    "    for field in field_list:\n",
    "        if field not in test_fields:\n",
    "            assert isinstance(getattr(Ability(),field),int)\n",
    "    assert True"
   ]
  },
  {
   "cell_type": "code",
   "execution_count": 96,
   "metadata": {},
   "outputs": [
    {
     "name": "stdout",
     "output_type": "stream",
     "text": [
      "============================= test session starts =============================\n",
      "platform win32 -- Python 3.6.5, pytest-3.7.1, py-1.5.4, pluggy-0.7.1 -- c:\\users\\dal189\\documents\\dnd5e-python\\env\\scripts\\python.exe\n",
      "cachedir: .pytest_cache\n",
      "rootdir: C:\\Users\\dal189\\Documents\\dnd5e-python, inifile:\n",
      "collecting ... collected 14 items\n",
      "\n",
      "character_scripting.py::test_Character_has_a_Race <- <ipython-input-12-58755c1bd107> PASSED [  7%]\n",
      "character_scripting.py::test_Character_has_a_CharacterClass <- <ipython-input-12-58755c1bd107> PASSED [ 14%]\n",
      "character_scripting.py::test_Character_fields <- <ipython-input-14-679f278e2370> PASSED [ 21%]\n",
      "character_scripting.py::test_NonPlayer_is_a_Character <- <ipython-input-22-ec70e452f4ca> PASSED [ 28%]\n",
      "character_scripting.py::test_Weapon_can_be_created <- <ipython-input-24-dcf591d50261> PASSED [ 35%]\n",
      "character_scripting.py::test_Spell_can_be_created <- <ipython-input-26-0a16777caab3> PASSED [ 42%]\n",
      "character_scripting.py::test_Ability_subclasses <- <ipython-input-53-72efc73e5f0d> FAILED [ 50%]\n",
      "character_scripting.py::test_Character_can_be_created <- <ipython-input-7-24813ad9a017> PASSED [ 57%]\n",
      "character_scripting.py::test_CharacterClass_subclasses <- <ipython-input-84-2250ac50cf4e> PASSED [ 64%]\n",
      "character_scripting.py::test_CharacterClass_subclasses_for_spellcaster <- <ipython-input-84-2250ac50cf4e> PASSED [ 71%]\n",
      "character_scripting.py::test_Race_subclasses <- <ipython-input-89-39654b6bf838> PASSED [ 78%]\n",
      "character_scripting.py::test_Character_for_level_default <- <ipython-input-9-72fcd976dc44> PASSED [ 85%]\n",
      "character_scripting.py::test_Player_is_a_Character <- <ipython-input-92-0e410eeb099a> PASSED [ 92%]\n",
      "character_scripting.py::test_Ability_fields <- <ipython-input-95-d3c4cf5d9af2> PASSED [100%]\n",
      "\n",
      "================================== FAILURES ===================================\n",
      "<ipython-input-53-72efc73e5f0d>:13: KeyError: 'Strength'\n",
      "===================== 1 failed, 13 passed in 0.47 seconds =====================\n"
     ]
    }
   ],
   "source": [
    "%%run_pytest -v --tb=line\n",
    "\n",
    "import random\n",
    "\n",
    "class Ability(object):\n",
    "    \n",
    "    def __init__(self, score=10):\n",
    "        self.score = score\n",
    "        self.modifier = int((score - 10) / 2)\n",
    "        \n",
    "    def check(self):\n",
    "        return random.randint(1,20) + self.modifier\n",
    "    "
   ]
  },
  {
   "cell_type": "markdown",
   "metadata": {},
   "source": [
    "## 11. Each ability (`Strength` etc...) is a subclass of `Ability`"
   ]
  },
  {
   "cell_type": "code",
   "execution_count": 102,
   "metadata": {},
   "outputs": [],
   "source": [
    "# Is an Ability\n",
    "def test_Ability_subclasses():\n",
    "\n",
    "    ability_list = [\n",
    "        \"Strength\", \"Dexterity\", \"Constitution\",\n",
    "        \"Intelligence\", \"Wisdom\", \"Charisma\"\n",
    "    ]\n",
    "\n",
    "    subclasses = {cls.__name__ : cls for cls in Ability.__subclasses__()}\n",
    "    \n",
    "    for ability in ability_list:\n",
    "        if ability not in subclasses:\n",
    "            assert False, '{0} is not a subclass of Ability'.format(ability)\n",
    "    assert True"
   ]
  },
  {
   "cell_type": "code",
   "execution_count": 103,
   "metadata": {},
   "outputs": [
    {
     "name": "stdout",
     "output_type": "stream",
     "text": [
      "============================= test session starts =============================\n",
      "platform win32 -- Python 3.6.5, pytest-3.7.1, py-1.5.4, pluggy-0.7.1\n",
      "rootdir: C:\\Users\\dal189\\Documents\\dnd5e-python, inifile:\n",
      "collected 14 items\n",
      "\n",
      "character_scripting.py ..............                                    [100%]\n",
      "\n",
      "========================== 14 passed in 0.15 seconds ==========================\n"
     ]
    }
   ],
   "source": [
    "%%run_pytest\n",
    "\n",
    "class Strength(Ability):\n",
    "    pass\n",
    "class Dexterity(Ability):\n",
    "    pass\n",
    "class Constitution(Ability):\n",
    "    pass\n",
    "class Intelligence(Ability):\n",
    "    pass\n",
    "class Wisdom(Ability):\n",
    "    pass\n",
    "class Charisma(Ability):\n",
    "    pass"
   ]
  },
  {
   "cell_type": "markdown",
   "metadata": {},
   "source": [
    "## 12. Each `Ability` subclass has skills\n",
    "   - Skills and saving throws are kept in a dictionary called `proficiencies`\n",
    "   - `proficiencies` key:value pairs are all `skill : <bool>`"
   ]
  },
  {
   "cell_type": "code",
   "execution_count": 154,
   "metadata": {},
   "outputs": [],
   "source": [
    "# Refactor the previous test\n",
    "def test_Ability_subclasses():\n",
    "\n",
    "    ability_list = [\n",
    "        \"Strength\", \"Dexterity\", \"Constitution\",\n",
    "        \"Intelligence\", \"Wisdom\", \"Charisma\"\n",
    "    ]\n",
    "\n",
    "    subclasses = {cls.__name__ : cls() for cls in Ability.__subclasses__()}\n",
    "    \n",
    "    for ability in ability_list:\n",
    "        # Is an Ability\n",
    "        if ability not in subclasses:\n",
    "            assert False, '{0} is not a subclass of Ability'.format(ability)\n",
    "        # Has proficiencies dictionary\n",
    "        elif not isinstance(subclasses[ability].proficiencies,dict):\n",
    "            assert False, '{0} does not have proficiencies dict'.format(ability)\n",
    "        # Values in proficiencies are booleans\n",
    "        profs = subclasses[ability].proficiencies\n",
    "        for prof in profs:\n",
    "            if not isinstance(profs[prof],bool):\n",
    "                assert False, '{0}.proficiencies[{1}] is not bool'.format(\n",
    "                    ability, prof)\n",
    "    assert True"
   ]
  },
  {
   "cell_type": "code",
   "execution_count": 155,
   "metadata": {},
   "outputs": [
    {
     "name": "stdout",
     "output_type": "stream",
     "text": [
      "============================= test session starts =============================\n",
      "platform win32 -- Python 3.6.5, pytest-3.7.1, py-1.5.4, pluggy-0.7.1\n",
      "rootdir: C:\\Users\\dal189\\Documents\\dnd5e-python, inifile:\n",
      "collected 13 items\n",
      "\n",
      "character_scripting.py .............                                     [100%]\n",
      "\n",
      "========================== 13 passed in 0.15 seconds ==========================\n"
     ]
    }
   ],
   "source": [
    "%%run_pytest\n",
    "\n",
    "class Strength(Ability):\n",
    "    \n",
    "    def __init__(self, score=10, proficiencies=[]):\n",
    "        skill_list = [\"Saving Throws\", \"Athletics\"]\n",
    "        proficiencies = [prof.title() for prof in proficiencies]\n",
    "        self.proficiencies = {\n",
    "            skill:skill in proficiencies for skill in skill_list\n",
    "        }\n",
    "        super().__init__(score)\n",
    "    \n",
    "class Dexterity(Ability):\n",
    "    \n",
    "    def __init__(self, score=10, proficiencies=[]):\n",
    "        skill_list = [\n",
    "            \"Saving Throws\", \"Acrobatics\",\n",
    "            \"Sleight of Hand\", \"Stealth\"\n",
    "        ]\n",
    "        proficiencies = [prof.title() for prof in proficiencies]\n",
    "        self.proficiencies = {\n",
    "            skill:skill in proficiencies for skill in skill_list\n",
    "        }\n",
    "        super().__init__(score)\n",
    "    \n",
    "class Constitution(Ability):\n",
    "    \n",
    "    def __init__(self, score=10, proficiencies=[]):\n",
    "        skill_list = [\"Saving Throws\"]\n",
    "        proficiencies = [prof.title() for prof in proficiencies]\n",
    "        self.proficiencies = {\n",
    "            skill:skill in proficiencies for skill in skill_list\n",
    "        }\n",
    "        super().__init__(score)\n",
    "    \n",
    "class Intelligence(Ability):\n",
    "    \n",
    "    def __init__(self, score=10, proficiencies=[]):\n",
    "        skill_list = [\n",
    "            \"Saving Throws\", \"Arcana\", \"History\",\n",
    "            \"Investigation\", \"Nature\", \"Religion\"\n",
    "        ]\n",
    "        proficiencies = [prof.title() for prof in proficiencies]\n",
    "        self.proficiencies = {\n",
    "            skill:skill in proficiencies for skill in skill_list\n",
    "        }\n",
    "        super().__init__(score)\n",
    "    \n",
    "class Wisdom(Ability):\n",
    "    \n",
    "    def __init__(self, score=10, proficiencies=[]):\n",
    "        skill_list = [\n",
    "            \"Saving Throws\", \"Animal Handling\", \"Insight\",\n",
    "            \"Medicine\", \"Perception\", \"Survival\"\n",
    "        ]\n",
    "        proficiencies = [prof.title() for prof in proficiencies]\n",
    "        self.proficiencies = {\n",
    "            skill:skill in proficiencies for skill in skill_list\n",
    "        }\n",
    "        super().__init__(score)\n",
    "    \n",
    "class Charisma(Ability):\n",
    "    \n",
    "    def __init__(self, score=10, proficiencies=[]):\n",
    "        skill_list = [\n",
    "            \"Saving Throws\", \"Deception\", \"Intimidation\",\n",
    "            \"Performance\", \"Persuasion\"\n",
    "        ]\n",
    "        proficiencies = [prof.title() for prof in proficiencies]\n",
    "        self.proficiencies = {\n",
    "            skill:skill in proficiencies for skill in skill_list\n",
    "        }\n",
    "        super().__init__(score)\n",
    "    "
   ]
  },
  {
   "cell_type": "markdown",
   "metadata": {},
   "source": [
    "## 13. Initialise a `Background` class\n",
    "   - Contains a list of `proficiencies` and a description string"
   ]
  },
  {
   "cell_type": "markdown",
   "metadata": {},
   "source": [
    "## 14. Each `Character` has a list of `Abilities`\n",
    "   - The abilities for each character have scores and proficiencies\n",
    "   - The proficiencies for each character are determined by the `Race`, `CharacterClass` and `Background`\n",
    "   - `Race` and `CharacterClass` each have a list of `proficiencies` (or a list to choose from), just like in `Background`"
   ]
  },
  {
   "cell_type": "code",
   "execution_count": null,
   "metadata": {},
   "outputs": [],
   "source": [
    "class Character(object):\n",
    "    \n",
    "    def __init__(self, name=\"Merret\", race=\"Halfling\",\n",
    "                 character_class=\"Ranger\", level=1):\n",
    "        self.name = name\n",
    "        self._race = globals()[race.title()]()\n",
    "        self.character_class = globals()[character_class.title()]()\n",
    "        self.level = level\n"
   ]
  },
  {
   "cell_type": "markdown",
   "metadata": {},
   "source": [
    "## 15. Include function to create a custom `Race` and a `CharacterClass`"
   ]
  },
  {
   "cell_type": "code",
   "execution_count": null,
   "metadata": {},
   "outputs": [],
   "source": []
  },
  {
   "cell_type": "code",
   "execution_count": null,
   "metadata": {},
   "outputs": [],
   "source": []
  },
  {
   "cell_type": "markdown",
   "metadata": {},
   "source": [
    "## Convert Notebook to a Python Script"
   ]
  },
  {
   "cell_type": "code",
   "execution_count": null,
   "metadata": {},
   "outputs": [],
   "source": []
  },
  {
   "cell_type": "code",
   "execution_count": null,
   "metadata": {},
   "outputs": [],
   "source": []
  },
  {
   "cell_type": "code",
   "execution_count": null,
   "metadata": {},
   "outputs": [],
   "source": []
  },
  {
   "cell_type": "code",
   "execution_count": null,
   "metadata": {},
   "outputs": [],
   "source": []
  },
  {
   "cell_type": "code",
   "execution_count": null,
   "metadata": {},
   "outputs": [],
   "source": [
    "# Main class for Player Characters - \"is a\" Character\n",
    "class Player(Character):\n",
    "    \n",
    "    def __init__(self, name, race, character_class, ability_scores, level=1):\n",
    "        super().__init__(name, race, character_class, level)\n",
    "        self.__spellcaster = str(self._class) in [\n",
    "            \"Bard\", \"Druid\", \"Ranger\", \"Sorceror\", \"Wizard\", \"Warlock\"]\n",
    "        self.ability_scores = {\n",
    "            \"Strength\" : ability_scores[0],\n",
    "            \"Dexterity\" : ability_scores[1],\n",
    "            \"Constitution\" : ability_scores[2],\n",
    "            \"Intelligence\" : ability_scores[3],\n",
    "            \"Wisdom\" : ability_scores[4],\n",
    "            \"Charisma\" : ability_scores[5]\n",
    "        }\n",
    "        \n",
    "    def __str__(self):\n",
    "        return \"A level {0} {1} {2} called {3}\".format(\n",
    "            self.level, \n",
    "            str(self._race).title(),\n",
    "            str(self._class),\n",
    "            self.name.title())\n",
    "    \n",
    "    def attack(self):\n",
    "        pass"
   ]
  },
  {
   "cell_type": "code",
   "execution_count": null,
   "metadata": {},
   "outputs": [],
   "source": [
    "# Main class for Non-Player Characters - \"is a\" Character\n",
    "class NonPlayer(Character):\n",
    "    pass"
   ]
  },
  {
   "cell_type": "code",
   "execution_count": null,
   "metadata": {},
   "outputs": [],
   "source": [
    "merret = Player(\"Merret Strongheart\",\n",
    "                   \"Halfling\",\n",
    "                   \"ranger\",\n",
    "                   [12, 20, 12, 8, 16, 8],\n",
    "                   9)"
   ]
  },
  {
   "cell_type": "code",
   "execution_count": null,
   "metadata": {},
   "outputs": [],
   "source": [
    "print(merret._class)"
   ]
  },
  {
   "cell_type": "code",
   "execution_count": null,
   "metadata": {},
   "outputs": [],
   "source": [
    "merret._Player__spellcaster"
   ]
  },
  {
   "cell_type": "code",
   "execution_count": null,
   "metadata": {},
   "outputs": [],
   "source": [
    "print(merret)"
   ]
  },
  {
   "cell_type": "code",
   "execution_count": null,
   "metadata": {},
   "outputs": [],
   "source": [
    "despair = Player(\"Despair\", \"Tiefling\", \"Sorceror\", [9, 11, 15, 14, 13, 20], 8)"
   ]
  },
  {
   "cell_type": "code",
   "execution_count": null,
   "metadata": {},
   "outputs": [],
   "source": [
    "despair._Player__spellcaster"
   ]
  },
  {
   "cell_type": "code",
   "execution_count": null,
   "metadata": {},
   "outputs": [],
   "source": [
    "print(despair)"
   ]
  },
  {
   "cell_type": "code",
   "execution_count": null,
   "metadata": {},
   "outputs": [],
   "source": []
  }
 ],
 "metadata": {
  "kernelspec": {
   "display_name": "Python 3",
   "language": "python",
   "name": "python3"
  },
  "language_info": {
   "codemirror_mode": {
    "name": "ipython",
    "version": 3
   },
   "file_extension": ".py",
   "mimetype": "text/x-python",
   "name": "python",
   "nbconvert_exporter": "python",
   "pygments_lexer": "ipython3",
   "version": "3.6.5"
  }
 },
 "nbformat": 4,
 "nbformat_minor": 2
}
