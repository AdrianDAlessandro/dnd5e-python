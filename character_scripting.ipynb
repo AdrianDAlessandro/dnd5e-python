{
 "cells": [
  {
   "cell_type": "markdown",
   "metadata": {},
   "source": [
    "# Test Driven Development of Character class layout\n",
    "\n",
    "This notebook serves two purposes:\n",
    "- To develop the program (layout of classes, data structures, etc) for the interactive character sheet\n",
    "- To provide an example of test driven development\n",
    "\n",
    "## Objective\n",
    "\n",
    "We want to be able to initialise/create a Character object that can return all of the essential information about about the D&D Character. It should also be able to level up and contain methods for all actions in combat.\n",
    "\n",
    "## List of Requirements (Update this over time)\n",
    "1. Initialise a `Character` object\n",
    "2. Initialiase `Character` with some details\n",
    "    - A string for each of: `name`, `race`, and `character_class`\n",
    "    - An integer for `level`, which defaults to 1\n",
    "3. Make it that `Character` \"has a\" `Race` and \"has a\" `CharacterClass`\n",
    "    - Each is a class of it's own\n",
    "    - Build in the ability to check the string with a `__str__` method\n",
    "4. Further develop the `Race` class\n",
    "    - It has subclasses for each race from D&D 5e\n",
    "    - The `__str__` method returns the race name\n",
    "5. Further develop the `CharacterClass` class\n",
    "    - It has subclasses for each character class from D&D 5e\n",
    "    - The `__str__` method returns the character class name\n",
    "6. Initialise a `Player` class which \"is a\" `Character`\n",
    "7. Initialise a `NonPlayer` class which \"is a\" `Character`\n",
    "8. Initialise a `Weapon` class\n",
    "9. Initialise a `Spell` class\n",
    "10. Initialise an `Ability` class\n",
    "    - `Ability` has the `check()` method and `modifier` and `score` properties\n",
    "11. Each ability (`Strength` etc...) is a subclass of `Ability`\n",
    "12. Each `Ability` subclass has skills\n",
    "    - Skills and saving throws are kept in a dictionary called `proficiencies`\n",
    "    - `proficiencies` key:value pairs are all `skill : <bool>`\n",
    "13. Initialise a `Background` class\n",
    "   - Contains a list of `proficiencies` and a `description` string\n",
    "14. Each `Background` subclass exists and determines skill proficiencies available\n",
    "   - Limited by the SRD, can only use Acolyte\n",
    "15. Each `Character` has a `str` method describing it\n",
    "16. Each `Character` has a list of `Abilities`\n",
    "   - The abilities for each character have scores and proficiencies\n",
    "   - The proficiencies for each character are determined by the `Race`, `CharacterClass` and `Background`\n",
    "   - `Race` and `CharacterClass` each have a list of `proficiencies` (or a list to choose from), just like in `Background`\n",
    "17. Include function to create a custom `Race`, `CharacterClass`, and `Background`\n",
    "18. Be able to return list of options for in-combat. ie list of Actions, Bonus Actions, Movemment\n",
    "19. "
   ]
  },
  {
   "cell_type": "markdown",
   "metadata": {
    "slideshow": {
     "slide_type": "fragment"
    }
   },
   "source": [
    "#### First, import the testing modules:"
   ]
  },
  {
   "cell_type": "code",
   "execution_count": null,
   "metadata": {},
   "outputs": [],
   "source": [
    "# Set the file name for unit testing iwth ipytest\n",
    "__file__ = \"character_scripting.ipynb\"\n",
    "\n",
    "import pytest\n",
    "from ipytest import run_pytest"
   ]
  },
  {
   "cell_type": "markdown",
   "metadata": {},
   "source": [
    "## 1. Initialise a `Character` object"
   ]
  },
  {
   "cell_type": "markdown",
   "metadata": {},
   "source": [
    "#### Make sure the tests are defined *before* the main code is written:"
   ]
  },
  {
   "cell_type": "code",
   "execution_count": null,
   "metadata": {},
   "outputs": [],
   "source": [
    "def test_Character_can_be_created():\n",
    "    assert Character()"
   ]
  },
  {
   "cell_type": "code",
   "execution_count": null,
   "metadata": {},
   "outputs": [],
   "source": [
    "run_pytest(pytest_options=[\"-v\", \"--tb=line\"])"
   ]
  },
  {
   "cell_type": "markdown",
   "metadata": {},
   "source": [
    "#### Test failed (because we are yet to define `Character`). \"Refactor\" the code:"
   ]
  },
  {
   "cell_type": "code",
   "execution_count": null,
   "metadata": {},
   "outputs": [],
   "source": [
    "class Character(object):\n",
    "    pass"
   ]
  },
  {
   "cell_type": "code",
   "execution_count": null,
   "metadata": {},
   "outputs": [],
   "source": [
    "run_pytest()"
   ]
  },
  {
   "cell_type": "markdown",
   "metadata": {},
   "source": [
    "### [This process](https://en.wikipedia.org/wiki/Test-driven_development#Test-driven_development_cycle) should be repeated for each new requirement\n",
    "1. **Write** the test(s)\n",
    "```python\n",
    "def test_<test_description>():\n",
    "    # Some code (potentially)\n",
    "    assert true_statement\n",
    "```\n",
    "2. **Run** the tests\n",
    "```python\n",
    "%%run_pytest -v --tb=line\n",
    "```\n",
    "3. **Refactor** (update or write new code - including tests) until all tests pass\n",
    "4. **Repeat** for the next requirement"
   ]
  },
  {
   "cell_type": "markdown",
   "metadata": {},
   "source": [
    "## 2. Initialiase `Character` with some details\n",
    "- A string for each of: `name`, `race`, and `character_class`\n",
    "- An integer for `level`, which defaults to 1"
   ]
  },
  {
   "cell_type": "markdown",
   "metadata": {},
   "source": [
    "1. **Write** the test(s)"
   ]
  },
  {
   "cell_type": "code",
   "execution_count": null,
   "metadata": {},
   "outputs": [],
   "source": [
    "def test_Character_fields():\n",
    "\n",
    "    field_list = [\"name\", \"_race\", \"character_class\", \"level\"]\n",
    "    inputs = \"Merret\",\"Halfling\",\"Ranger\", 8\n",
    "    test_character = Character(*inputs) # * operator unpacks tuple (** for dict)\n",
    "    test_fields = [field for field in dir(test_character)]\n",
    "    \n",
    "    for inpt, field in zip(inputs, field_list):\n",
    "        if field not in test_fields:\n",
    "            assert getattr(test_character, field)\n",
    "        elif inpt != getattr(test_character,field):\n",
    "            assert inpt == getattr(test_character,field)\n",
    "    assert True\n",
    "\n",
    "def test_Character_for_level_default():\n",
    "    assert 1 == Character(\"Merret\",\"Halfling\",\"Ranger\").level"
   ]
  },
  {
   "cell_type": "markdown",
   "metadata": {},
   "source": [
    "2. **Run** the tests"
   ]
  },
  {
   "cell_type": "code",
   "execution_count": null,
   "metadata": {},
   "outputs": [],
   "source": [
    "run_pytest(pytest_options=[\"-v\", \"--tb=line\"])"
   ]
  },
  {
   "cell_type": "markdown",
   "metadata": {},
   "source": [
    "3. **Refactor** - The initial test does not include any inputs to `Character`. Include default values."
   ]
  },
  {
   "cell_type": "code",
   "execution_count": null,
   "metadata": {},
   "outputs": [],
   "source": [
    "class Character(object):\n",
    "    \n",
    "    def __init__(self, name, race, character_class, level=1):\n",
    "        self.name = name\n",
    "        self._race = race\n",
    "        self.character_class = character_class\n",
    "        self.level = level"
   ]
  },
  {
   "cell_type": "code",
   "execution_count": null,
   "metadata": {},
   "outputs": [],
   "source": [
    "run_pytest(pytest_options=[\"-v\", \"--tb=line\"])"
   ]
  },
  {
   "cell_type": "markdown",
   "metadata": {},
   "source": [
    "3.1 **Continue Refactoring** - The initial test does not include any inputs to `Character`. Include default values."
   ]
  },
  {
   "cell_type": "code",
   "execution_count": null,
   "metadata": {},
   "outputs": [],
   "source": [
    "class Character(object):\n",
    "    \n",
    "    def __init__(self, name=\"Merret\", race=\"Halfling\",\n",
    "                 character_class=\"Ranger\", level=1):\n",
    "        self.name = name\n",
    "        self._race = race\n",
    "        self.character_class = character_class\n",
    "        self.level = level"
   ]
  },
  {
   "cell_type": "code",
   "execution_count": null,
   "metadata": {},
   "outputs": [],
   "source": [
    "run_pytest(pytest_options=[\"-v\", \"--tb=line\"])"
   ]
  },
  {
   "cell_type": "markdown",
   "metadata": {},
   "source": [
    "## 3. Make it that `Character` \"has a\" `Race` and \"has a\" `CharacterClass`\n",
    "- Each is a class of it's own\n",
    "- Build in the ability to check the string with a `__str__` method"
   ]
  },
  {
   "cell_type": "code",
   "execution_count": null,
   "metadata": {},
   "outputs": [],
   "source": [
    "def test_Character_has_a_Race():\n",
    "    assert isinstance(Character()._race, Race)\n",
    "def test_Character_has_a_CharacterClass():\n",
    "    assert isinstance(Character().character_class, CharacterClass)"
   ]
  },
  {
   "cell_type": "code",
   "execution_count": null,
   "metadata": {},
   "outputs": [],
   "source": [
    "class Race(object):\n",
    "    \n",
    "    def __init__(self, race):\n",
    "        self._race = race\n",
    "    \n",
    "    def __str__(self):\n",
    "        return self._race\n",
    "\n",
    "\n",
    "class CharacterClass(object):\n",
    "    \n",
    "    def __init__(self, character_class):\n",
    "        self.character_class = character_class\n",
    "    \n",
    "    def __str__(self):\n",
    "        return self.character_class\n",
    "\n",
    "\n",
    "class Character(object):\n",
    "    \n",
    "    def __init__(self, name=\"Merret\", race=\"Halfling\",\n",
    "                 character_class=\"Ranger\", level=1):\n",
    "        self.name = name\n",
    "        self._race = Race(race) # Changed Line\n",
    "        self.character_class = CharacterClass(character_class) # Changed Line\n",
    "        self.level = level\n"
   ]
  },
  {
   "cell_type": "code",
   "execution_count": null,
   "metadata": {},
   "outputs": [],
   "source": [
    "run_pytest(pytest_options=[\"-v\", \"--tb=line\"])"
   ]
  },
  {
   "cell_type": "markdown",
   "metadata": {},
   "source": [
    "#### The new requirement breaks the `test_Character_fields` test. Refactor the tests to make use of the `__str__` method:"
   ]
  },
  {
   "cell_type": "code",
   "execution_count": null,
   "metadata": {},
   "outputs": [],
   "source": [
    "def test_Character_fields():\n",
    "\n",
    "    field_list = [\"name\", \"_race\", \"character_class\", \"level\"]\n",
    "    inputs = \"Merret\",\"Halfling\",\"Ranger\", 8\n",
    "    test_character = Character(*inputs) # * operator unpacks tuple (** for dict)\n",
    "    test_fields = [field for field in dir(test_character)]\n",
    "    \n",
    "    for inpt, field in zip(inputs, field_list):\n",
    "        if field not in test_fields:\n",
    "            assert getattr(test_character, field)\n",
    "        # Refactor here:\n",
    "        elif str(inpt) != str(getattr(test_character,field)):\n",
    "            assert str(inpt) == str(getattr(test_character,field))\n",
    "    assert True"
   ]
  },
  {
   "cell_type": "code",
   "execution_count": null,
   "metadata": {},
   "outputs": [],
   "source": [
    "run_pytest()"
   ]
  },
  {
   "cell_type": "markdown",
   "metadata": {},
   "source": [
    "## 4. Further develop the `Race` class\n",
    "   - It has subclasses for each race from D&D 5e\n",
    "   - The `__str__` method returns the race name"
   ]
  },
  {
   "cell_type": "code",
   "execution_count": null,
   "metadata": {},
   "outputs": [],
   "source": [
    "# Is a Race\n",
    "def test_Race_subclasses():\n",
    "\n",
    "    race_list = [\n",
    "        \"Dwarf\", \"Elf\", \"Halfling\", \"Human\", \"Dragonborn\",\n",
    "        \"Gnome\", \"HalfElf\", \"HalfOrc\", \"Tiefling\"\n",
    "    ]\n",
    "\n",
    "    subclasses = {cls.__name__ : cls() for cls in Race.__subclasses__()}\n",
    "\n",
    "    for race in race_list:\n",
    "        if race not in subclasses:\n",
    "            assert False, '{0} is not a subclass of Race'.format(race)\n",
    "        elif str(subclasses[race]) != race:\n",
    "            assert False, '{0} __str__ method is incorrect'.format(race)\n",
    "    assert True"
   ]
  },
  {
   "cell_type": "code",
   "execution_count": null,
   "metadata": {},
   "outputs": [],
   "source": [
    "class Race(object):\n",
    "    \n",
    "    def __init__(self):\n",
    "        pass\n",
    "    \n",
    "    def __str__(self):\n",
    "        return type(self).__name__ # returns the name of the class\n",
    "\n",
    "    \n",
    "class Dwarf(Race):\n",
    "    pass\n",
    "class Elf(Race):\n",
    "    pass\n",
    "class Halfling(Race):\n",
    "    pass\n",
    "class Human(Race):\n",
    "    pass\n",
    "class Dragonborn(Race):\n",
    "    pass\n",
    "class Gnome(Race):\n",
    "    pass\n",
    "class HalfElf(Race):\n",
    "    pass\n",
    "class HalfOrc(Race):\n",
    "    pass\n",
    "class Tiefling(Race):\n",
    "    pass"
   ]
  },
  {
   "cell_type": "code",
   "execution_count": null,
   "metadata": {},
   "outputs": [],
   "source": [
    "run_pytest(pytest_options=[\"-v\", \"--tb=line\"])"
   ]
  },
  {
   "cell_type": "markdown",
   "metadata": {},
   "source": [
    "#### Must update assignment of `_race` in `Character`"
   ]
  },
  {
   "cell_type": "code",
   "execution_count": null,
   "metadata": {},
   "outputs": [],
   "source": [
    "class Character(object):\n",
    "    \n",
    "    def __init__(self, name=\"Merret\", race=\"Halfling\",\n",
    "                 character_class=\"Ranger\", level=1):\n",
    "        self.name = name\n",
    "        self._race = globals()[race.title()]() # Changed Line\n",
    "        self.character_class = CharacterClass(character_class)\n",
    "        self.level = level\n"
   ]
  },
  {
   "cell_type": "code",
   "execution_count": null,
   "metadata": {},
   "outputs": [],
   "source": [
    "run_pytest()"
   ]
  },
  {
   "cell_type": "markdown",
   "metadata": {},
   "source": [
    "## 5. Further develop the `CharacterClass` class\n",
    "   - It has subclasses for each character class from D&D 5e\n",
    "   - The `__str__` method returns the character class name\n",
    "   - Each subclass has a flag for if it is a spellcaster"
   ]
  },
  {
   "cell_type": "code",
   "execution_count": null,
   "metadata": {},
   "outputs": [],
   "source": [
    "def test_CharacterClass_subclasses():\n",
    "\n",
    "    class_list = [\n",
    "        'Barbarian', 'Bard', 'Cleric', 'Druid', 'Fighter', 'Monk',\n",
    "        'Paladin', 'Ranger', 'Rogue', 'Sorcerer', 'Warlock', 'Wizard'\n",
    "    ]\n",
    "\n",
    "    subclasses = {cls.__name__ : cls() for cls in CharacterClass.__subclasses__()}\n",
    "\n",
    "    for cls in class_list:\n",
    "        # Is a Character Class\n",
    "        if cls not in subclasses:\n",
    "            assert False, '{0} is not a subclass of CharacterClass'.format(cls)\n",
    "        # __str__ method works properly\n",
    "        elif str(subclasses[cls]) != cls:\n",
    "            assert False, '{0} __str__ method is incorrect'.format(cls)\n",
    "        # Has spellcaster boolean\n",
    "        elif not isinstance(subclasses[cls].spellcaster,bool):\n",
    "            assert False, '{0}.spellcaster should be boolean'.format(cls)\n",
    "    assert True"
   ]
  },
  {
   "cell_type": "code",
   "execution_count": null,
   "metadata": {},
   "outputs": [],
   "source": [
    "class CharacterClass(object):\n",
    "    \n",
    "    def __init__(self, spellcaster=False):\n",
    "        self.spellcaster = spellcaster\n",
    "    \n",
    "    def __str__(self):\n",
    "        return type(self).__name__ # returns the name of the class\n",
    "\n",
    "    \n",
    "class Barbarian(CharacterClass):\n",
    "    def __init__(self):\n",
    "        super().__init__()\n",
    "\n",
    "class Bard(CharacterClass):\n",
    "    def __init__(self):\n",
    "        super().__init__(spellcaster=True)\n",
    "\n",
    "class Cleric(CharacterClass):\n",
    "    def __init__(self):\n",
    "        super().__init__(spellcaster=True)\n",
    "\n",
    "class Druid(CharacterClass):\n",
    "    def __init__(self):\n",
    "        super().__init__(spellcaster=True)\n",
    "\n",
    "class Fighter(CharacterClass):\n",
    "    def __init__(self):\n",
    "        super().__init__()\n",
    "\n",
    "class Monk(CharacterClass):\n",
    "    def __init__(self):\n",
    "        super().__init__()\n",
    "\n",
    "class Paladin(CharacterClass):\n",
    "    def __init__(self):\n",
    "        super().__init__(spellcaster=True)\n",
    "\n",
    "class Ranger(CharacterClass):\n",
    "    def __init__(self):\n",
    "        super().__init__(spellcaster=True)\n",
    "\n",
    "class Rogue(CharacterClass):\n",
    "    def __init__(self):\n",
    "        super().__init__()\n",
    "\n",
    "class Sorcerer(CharacterClass):\n",
    "    def __init__(self):\n",
    "        super().__init__(spellcaster=True)\n",
    "\n",
    "class Warlock(CharacterClass):\n",
    "    def __init__(self):\n",
    "        super().__init__(spellcaster=True)\n",
    "\n",
    "class Wizard(CharacterClass):\n",
    "    def __init__(self):\n",
    "        super().__init__(spellcaster=True)\n",
    "\n",
    "\n",
    "# Same problem will occur as when changing Race, so update assignment of\n",
    "# character_class in Character now\n",
    "class Character(object):\n",
    "    \n",
    "    def __init__(self, name=\"Merret\", race=\"Halfling\",\n",
    "                 character_class=\"Ranger\", level=1):\n",
    "        self.name = name\n",
    "        self._race = globals()[race.title()]()\n",
    "        self.character_class = globals()[character_class.title()]() # Changed\n",
    "        self.level = level"
   ]
  },
  {
   "cell_type": "code",
   "execution_count": null,
   "metadata": {},
   "outputs": [],
   "source": [
    "run_pytest()"
   ]
  },
  {
   "cell_type": "markdown",
   "metadata": {},
   "source": [
    "## 6. Initialise a `Player` class which \"is a\" `Character`"
   ]
  },
  {
   "cell_type": "code",
   "execution_count": null,
   "metadata": {},
   "outputs": [],
   "source": [
    "def test_Player_is_a_Character():\n",
    "    assert isinstance(Player(),Character)"
   ]
  },
  {
   "cell_type": "code",
   "execution_count": null,
   "metadata": {},
   "outputs": [],
   "source": [
    "class Player(Character):\n",
    "    pass"
   ]
  },
  {
   "cell_type": "code",
   "execution_count": null,
   "metadata": {},
   "outputs": [],
   "source": [
    "run_pytest()"
   ]
  },
  {
   "cell_type": "markdown",
   "metadata": {},
   "source": [
    "## 7. Initialise a `NonPlayer` class which \"is a\" `Character`"
   ]
  },
  {
   "cell_type": "code",
   "execution_count": null,
   "metadata": {},
   "outputs": [],
   "source": [
    "def test_NonPlayer_is_a_Character():\n",
    "    assert isinstance(NonPlayer(),Character)"
   ]
  },
  {
   "cell_type": "code",
   "execution_count": null,
   "metadata": {},
   "outputs": [],
   "source": [
    "class NonPlayer(Character):\n",
    "    pass"
   ]
  },
  {
   "cell_type": "code",
   "execution_count": null,
   "metadata": {},
   "outputs": [],
   "source": [
    "run_pytest()"
   ]
  },
  {
   "cell_type": "markdown",
   "metadata": {},
   "source": [
    "## 8. Initialise a `Weapon` class"
   ]
  },
  {
   "cell_type": "code",
   "execution_count": null,
   "metadata": {},
   "outputs": [],
   "source": [
    "def test_Weapon_can_be_created():\n",
    "    assert Weapon()"
   ]
  },
  {
   "cell_type": "code",
   "execution_count": null,
   "metadata": {},
   "outputs": [],
   "source": [
    "class Weapon(object):\n",
    "    pass"
   ]
  },
  {
   "cell_type": "code",
   "execution_count": null,
   "metadata": {},
   "outputs": [],
   "source": [
    "run_pytest()"
   ]
  },
  {
   "cell_type": "markdown",
   "metadata": {},
   "source": [
    "## 9. Initialise a `Spell` class"
   ]
  },
  {
   "cell_type": "code",
   "execution_count": null,
   "metadata": {},
   "outputs": [],
   "source": [
    "def test_Spell_can_be_created():\n",
    "    assert Spell()"
   ]
  },
  {
   "cell_type": "code",
   "execution_count": null,
   "metadata": {},
   "outputs": [],
   "source": [
    "class Spell(object):\n",
    "    pass"
   ]
  },
  {
   "cell_type": "code",
   "execution_count": null,
   "metadata": {},
   "outputs": [],
   "source": [
    "run_pytest()"
   ]
  },
  {
   "cell_type": "markdown",
   "metadata": {},
   "source": [
    "## 10. Initialise an `Ability` class\n",
    "   - `Ability` has the `check()` method and `modifier` and `score` properties"
   ]
  },
  {
   "cell_type": "code",
   "execution_count": null,
   "metadata": {},
   "outputs": [],
   "source": [
    "def test_Ability_fields():\n",
    "\n",
    "    field_list = [\"check\", \"modifier\", \"score\"]\n",
    "    test_fields = [field for field in dir(Ability())]\n",
    "    \n",
    "    for field in field_list:\n",
    "        if field not in test_fields:\n",
    "            assert isinstance(getattr(Ability(),field),int)\n",
    "    assert True"
   ]
  },
  {
   "cell_type": "code",
   "execution_count": null,
   "metadata": {},
   "outputs": [],
   "source": [
    "import random\n",
    "\n",
    "class Ability(object):\n",
    "    \n",
    "    def __init__(self, score=10):\n",
    "        self.score = score\n",
    "        self.modifier = int((score - 10) / 2)\n",
    "        \n",
    "    def check(self):\n",
    "        return random.randint(1,20) + self.modifier\n",
    "    "
   ]
  },
  {
   "cell_type": "code",
   "execution_count": null,
   "metadata": {},
   "outputs": [],
   "source": [
    "run_pytest(pytest_options=[\"-v\", \"--tb=line\"])"
   ]
  },
  {
   "cell_type": "markdown",
   "metadata": {},
   "source": [
    "## 11. Each ability (`Strength` etc...) is a subclass of `Ability`"
   ]
  },
  {
   "cell_type": "code",
   "execution_count": null,
   "metadata": {},
   "outputs": [],
   "source": [
    "# Is an Ability\n",
    "def test_Ability_subclasses():\n",
    "\n",
    "    ability_list = [\n",
    "        \"Strength\", \"Dexterity\", \"Constitution\",\n",
    "        \"Intelligence\", \"Wisdom\", \"Charisma\"\n",
    "    ]\n",
    "\n",
    "    subclasses = {cls.__name__ : cls for cls in Ability.__subclasses__()}\n",
    "    \n",
    "    for ability in ability_list:\n",
    "        if ability not in subclasses:\n",
    "            assert False, '{0} is not a subclass of Ability'.format(ability)\n",
    "    assert True"
   ]
  },
  {
   "cell_type": "code",
   "execution_count": null,
   "metadata": {},
   "outputs": [],
   "source": [
    "class Strength(Ability):\n",
    "    pass\n",
    "class Dexterity(Ability):\n",
    "    pass\n",
    "class Constitution(Ability):\n",
    "    pass\n",
    "class Intelligence(Ability):\n",
    "    pass\n",
    "class Wisdom(Ability):\n",
    "    pass\n",
    "class Charisma(Ability):\n",
    "    pass"
   ]
  },
  {
   "cell_type": "code",
   "execution_count": null,
   "metadata": {},
   "outputs": [],
   "source": [
    "run_pytest()"
   ]
  },
  {
   "cell_type": "markdown",
   "metadata": {},
   "source": [
    "## 12. Each `Ability` subclass has skills\n",
    "   - Skills and saving throws are kept in a dictionary called `proficiencies`\n",
    "   - `proficiencies` key:value pairs are all `skill : <bool>`"
   ]
  },
  {
   "cell_type": "code",
   "execution_count": null,
   "metadata": {},
   "outputs": [],
   "source": [
    "# Refactor the previous test\n",
    "def test_Ability_subclasses():\n",
    "\n",
    "    ability_list = [\n",
    "        \"Strength\", \"Dexterity\", \"Constitution\",\n",
    "        \"Intelligence\", \"Wisdom\", \"Charisma\"\n",
    "    ]\n",
    "\n",
    "    subclasses = {cls.__name__ : cls() for cls in Ability.__subclasses__()}\n",
    "    \n",
    "    for ability in ability_list:\n",
    "        # Is an Ability\n",
    "        if ability not in subclasses:\n",
    "            assert False, '{0} is not a subclass of Ability'.format(ability)\n",
    "        # Has proficiencies dictionary\n",
    "        elif not isinstance(subclasses[ability].proficiencies, dict):\n",
    "            assert False, '{0} does not have proficiencies dict'.format(ability)\n",
    "        # Values in proficiencies are booleans\n",
    "        profs = subclasses[ability].proficiencies\n",
    "        for prof in profs:\n",
    "            if not isinstance(profs[prof],bool):\n",
    "                assert False, '{0}.proficiencies[{1}] is not bool'.format(\n",
    "                    ability, prof)\n",
    "    assert True"
   ]
  },
  {
   "cell_type": "code",
   "execution_count": null,
   "metadata": {},
   "outputs": [],
   "source": [
    "class Strength(Ability):\n",
    "    \n",
    "    def __init__(self, score=10, proficiencies=[]):\n",
    "        skill_list = [\"Saving Throws\", \"Athletics\"]\n",
    "        proficiencies = [prof.title() for prof in proficiencies]\n",
    "        self.proficiencies = {\n",
    "            skill:skill in proficiencies for skill in skill_list\n",
    "        }\n",
    "        super().__init__(score)\n",
    "    \n",
    "class Dexterity(Ability):\n",
    "    \n",
    "    def __init__(self, score=10, proficiencies=[]):\n",
    "        skill_list = [\n",
    "            \"Saving Throws\", \"Acrobatics\",\n",
    "            \"Sleight of Hand\", \"Stealth\"\n",
    "        ]\n",
    "        proficiencies = [prof.title() for prof in proficiencies]\n",
    "        self.proficiencies = {\n",
    "            skill:skill in proficiencies for skill in skill_list\n",
    "        }\n",
    "        super().__init__(score)\n",
    "    \n",
    "class Constitution(Ability):\n",
    "    \n",
    "    def __init__(self, score=10, proficiencies=[]):\n",
    "        skill_list = [\"Saving Throws\"]\n",
    "        proficiencies = [prof.title() for prof in proficiencies]\n",
    "        self.proficiencies = {\n",
    "            skill:skill in proficiencies for skill in skill_list\n",
    "        }\n",
    "        super().__init__(score)\n",
    "    \n",
    "class Intelligence(Ability):\n",
    "    \n",
    "    def __init__(self, score=10, proficiencies=[]):\n",
    "        skill_list = [\n",
    "            \"Saving Throws\", \"Arcana\", \"History\",\n",
    "            \"Investigation\", \"Nature\", \"Religion\"\n",
    "        ]\n",
    "        proficiencies = [prof.title() for prof in proficiencies]\n",
    "        self.proficiencies = {\n",
    "            skill:skill in proficiencies for skill in skill_list\n",
    "        }\n",
    "        super().__init__(score)\n",
    "    \n",
    "class Wisdom(Ability):\n",
    "    \n",
    "    def __init__(self, score=10, proficiencies=[]):\n",
    "        skill_list = [\n",
    "            \"Saving Throws\", \"Animal Handling\", \"Insight\",\n",
    "            \"Medicine\", \"Perception\", \"Survival\"\n",
    "        ]\n",
    "        proficiencies = [prof.title() for prof in proficiencies]\n",
    "        self.proficiencies = {\n",
    "            skill:skill in proficiencies for skill in skill_list\n",
    "        }\n",
    "        super().__init__(score)\n",
    "    \n",
    "class Charisma(Ability):\n",
    "    \n",
    "    def __init__(self, score=10, proficiencies=[]):\n",
    "        skill_list = [\n",
    "            \"Saving Throws\", \"Deception\", \"Intimidation\",\n",
    "            \"Performance\", \"Persuasion\"\n",
    "        ]\n",
    "        proficiencies = [prof.title() for prof in proficiencies]\n",
    "        self.proficiencies = {\n",
    "            skill:skill in proficiencies for skill in skill_list\n",
    "        }\n",
    "        super().__init__(score)\n",
    "    "
   ]
  },
  {
   "cell_type": "code",
   "execution_count": null,
   "metadata": {},
   "outputs": [],
   "source": [
    "run_pytest()"
   ]
  },
  {
   "cell_type": "markdown",
   "metadata": {},
   "source": [
    "## 13. Initialise a `Background` class\n",
    "   - Contains a list of `proficiencies` and a `description` string"
   ]
  },
  {
   "cell_type": "code",
   "execution_count": null,
   "metadata": {},
   "outputs": [],
   "source": [
    "def test_Background():\n",
    "\n",
    "    if not isinstance(Background().description,str):\n",
    "        assert False, \"Background has no description string\"\n",
    "    elif not isinstance(Background().proficiencies,list):\n",
    "        assert False, \"Background has no proficiencies list\"\n",
    "    assert True"
   ]
  },
  {
   "cell_type": "code",
   "execution_count": null,
   "metadata": {},
   "outputs": [],
   "source": [
    "class Background(object):\n",
    "    \n",
    "    def __init__(self, proficiencies=[], description=\"Background superclass\"):\n",
    "        self.proficiencies = proficiencies\n",
    "        self.description = description"
   ]
  },
  {
   "cell_type": "code",
   "execution_count": null,
   "metadata": {},
   "outputs": [],
   "source": [
    "run_pytest()"
   ]
  },
  {
   "cell_type": "markdown",
   "metadata": {},
   "source": [
    "## 14. Each `Background` subclass exists and determines skill proficiencies available\n",
    "   - Limited by the SRD, can only use Acolyte"
   ]
  },
  {
   "cell_type": "code",
   "execution_count": null,
   "metadata": {},
   "outputs": [],
   "source": [
    "def test_Acolyte():\n",
    "\n",
    "    subclasses = [cls.__name__ for cls in Background.__subclasses__()]\n",
    "    \n",
    "    # Is a Background\n",
    "    if \"Acolyte\" not in subclasses:\n",
    "        assert False, 'Acolyte is not a subclass of Background'\n",
    "    # Has proficiencies list\n",
    "    elif not isinstance(Acolyte().proficiencies, list):\n",
    "        assert False, 'Acolyte does not have proficiencies list'\n",
    "    # Values in proficiencies are strings\n",
    "    elif not Acolyte().proficiencies:\n",
    "        assert False, 'Acolyte.proficiencies is empty'\n",
    "    for prof in Acolyte().proficiencies:\n",
    "        if not isinstance(prof, str):\n",
    "            assert False, 'Acolyte.proficiencies contains a non str'\n",
    "    assert True"
   ]
  },
  {
   "cell_type": "code",
   "execution_count": null,
   "metadata": {},
   "outputs": [],
   "source": [
    "class Acolyte(Background):\n",
    "    \n",
    "    def __init__(self, description=\"An Acolyte\"):\n",
    "        proficiencies = [\"Insight\", \"Religion\"]\n",
    "        print(proficiencies)\n",
    "        super().__init__(proficiencies, description)"
   ]
  },
  {
   "cell_type": "code",
   "execution_count": null,
   "metadata": {},
   "outputs": [],
   "source": [
    "run_pytest()"
   ]
  },
  {
   "cell_type": "markdown",
   "metadata": {},
   "source": [
    "## 15. Each `Character` has a `str` method describing it"
   ]
  },
  {
   "cell_type": "code",
   "execution_count": null,
   "metadata": {},
   "outputs": [],
   "source": [
    "def test_Character_str():\n",
    "    assert isinstance(Character().__str__(), str)"
   ]
  },
  {
   "cell_type": "code",
   "execution_count": null,
   "metadata": {},
   "outputs": [],
   "source": [
    "class Character(object):\n",
    "    \n",
    "    def __init__(self, name=\"Merret\", race=\"Halfling\",\n",
    "                 character_class=\"Ranger\", level=1):\n",
    "        self.name = name\n",
    "        self._race = globals()[race.title()]()\n",
    "        self.character_class = globals()[character_class.title()]()\n",
    "        self.level = level\n",
    "    \n",
    "    def __str__(self):\n",
    "        return \"A level {0} {1} {2} called {3}\".format(\n",
    "            self.level, \n",
    "            str(self._race).title(),\n",
    "            str(self.character_class),\n",
    "            self.name.title()\n",
    "        )\n"
   ]
  },
  {
   "cell_type": "markdown",
   "metadata": {},
   "source": [
    "## 16. Each `Character` has a list of `Abilities`\n",
    "   - The abilities for each character have scores and proficiencies\n",
    "   - The proficiencies for each character are determined by the `Race`, `CharacterClass` and `Background`\n",
    "   - `Race` and `CharacterClass` each have a list of `proficiencies` (or a list to choose from), just like in `Background`"
   ]
  },
  {
   "cell_type": "code",
   "execution_count": null,
   "metadata": {},
   "outputs": [],
   "source": [
    "# Monkey patch from now on:\n",
    "def __init__(self, name=\"Merret\", race=\"Halfling\",\n",
    "             character_class=\"Ranger\", level=1):\n",
    "    self.name = name\n",
    "    self._race = globals()[race.title()]()\n",
    "    self.character_class = globals()[character_class.title()]()\n",
    "    self.level = level\n",
    "    self.ability_list = [\n",
    "        \"Strength\", \"Dexterity\", \"Constitution\",\n",
    "        \"Intelligence\", \"Wisdom\", \"Charisma\"\n",
    "    ]\n",
    "\n",
    "Character.__init__ = __init__\n",
    "del __init__"
   ]
  },
  {
   "cell_type": "code",
   "execution_count": null,
   "metadata": {},
   "outputs": [],
   "source": [
    "run_pytest(pytest_options=[\"-v\", \"--tb=line\"])"
   ]
  },
  {
   "cell_type": "code",
   "execution_count": null,
   "metadata": {},
   "outputs": [],
   "source": [
    "class Player(Character):\n",
    "    pass\n",
    "class NonPlayer(Character):\n",
    "    pass\n",
    "run_pytest()"
   ]
  },
  {
   "cell_type": "markdown",
   "metadata": {},
   "source": [
    "## 17. Include function to create a custom `Race`, `CharacterClass`, and `Background`"
   ]
  },
  {
   "cell_type": "code",
   "execution_count": null,
   "metadata": {},
   "outputs": [],
   "source": []
  },
  {
   "cell_type": "markdown",
   "metadata": {},
   "source": [
    "## 18. Be able to return list of options for in-combat. ie list of Actions, Bonus Actions, Movemment"
   ]
  },
  {
   "cell_type": "code",
   "execution_count": null,
   "metadata": {},
   "outputs": [],
   "source": []
  }
 ],
 "metadata": {
  "kernelspec": {
   "display_name": "Python 3",
   "language": "python",
   "name": "python3"
  },
  "language_info": {
   "codemirror_mode": {
    "name": "ipython",
    "version": 3
   },
   "file_extension": ".py",
   "mimetype": "text/x-python",
   "name": "python",
   "nbconvert_exporter": "python",
   "pygments_lexer": "ipython3",
   "version": "3.6.6"
  }
 },
 "nbformat": 4,
 "nbformat_minor": 2
}
