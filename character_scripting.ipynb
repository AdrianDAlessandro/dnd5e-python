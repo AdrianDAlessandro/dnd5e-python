{
 "cells": [
  {
   "cell_type": "markdown",
   "metadata": {},
   "source": [
    "# Test Driven Development of Character class layout\n",
    "\n",
    "This notebook serves two purposes:\n",
    "- To develop the program (layout of classes, data structures, etc) for the interactive character sheet\n",
    "- To provide an example of test driven development\n",
    "\n",
    "## Objective\n",
    "\n",
    "We want to be able to initialise/create a Character object that can return all of the essential information about about the D&D Character. It should also be able to level up and contain methods for all actions in combat.\n",
    "\n",
    "## List of Requirements (Update this time)\n",
    "1. Initialise a `Character` object\n",
    "2. Initialiase `Character` with some details\n",
    "    - A string for each of: `name`, `race`, and `character_class`\n",
    "    - An integer for `level`, which defaults to 1\n",
    "3. Make it that `Character` \"has a\" `Race` and \"has a\" `CharacterClass`\n",
    "    - Each is a class of it's own\n",
    "    - Build in the ability to check the string with a `__str__` method\n",
    "4. Further develop the `Race` class\n",
    "    - It has subclasses for each race from D&D 5e\n",
    "    - The `__str__` method returns the race name\n",
    "5. Further develop the `CharacterClass` class\n",
    "    - It has subclasses for each character class from D&D 5e\n",
    "    - The `__str__` method returns the character class name\n",
    "6. Initialise a `Player` class which \"is a\" `Character`\n",
    "7. Initialise a `NonPlayer` class which \"is a\" `Character`\n",
    "8. Initialise a `Weapon` class\n",
    "9. Initialise a `Spell` class\n",
    "10. Initialise an `Ability` class\n",
    "    - With each ability as a subclass (`Strength` etc...)\n",
    "11. Each `Ability` subclass has skills including a saving throw\n",
    "    - Skills and saving throws are kept in a dictionary called `proficiencies`\n",
    "    - `proficiencies` key:value pairs are all `skill : <bool>`\n",
    "12. Add to `Ability` class\n",
    "    - `Ability` has the `check()` method and `modifier` and `score` properties\n",
    "13. "
   ]
  },
  {
   "cell_type": "markdown",
   "metadata": {
    "slideshow": {
     "slide_type": "fragment"
    }
   },
   "source": [
    "#### First, import the testing modules:"
   ]
  },
  {
   "cell_type": "code",
   "execution_count": 1,
   "metadata": {},
   "outputs": [],
   "source": [
    "# Set the file name for unit testing iwth ipytest\n",
    "__file__ = 'character_scripting.ipynb'\n",
    "\n",
    "import pytest\n",
    "import ipytest.magics"
   ]
  },
  {
   "cell_type": "markdown",
   "metadata": {},
   "source": [
    "## 1. Initialise a `Character` object"
   ]
  },
  {
   "cell_type": "markdown",
   "metadata": {},
   "source": [
    "#### Make sure the tests are defined *before* the main code is written:"
   ]
  },
  {
   "cell_type": "code",
   "execution_count": 2,
   "metadata": {},
   "outputs": [
    {
     "name": "stdout",
     "output_type": "stream",
     "text": [
      "============================= test session starts =============================\n",
      "platform win32 -- Python 3.6.5, pytest-3.7.1, py-1.5.4, pluggy-0.7.1 -- c:\\users\\dal189\\documents\\dnd5e-python\\env\\scripts\\python.exe\n",
      "cachedir: .pytest_cache\n",
      "rootdir: C:\\Users\\dal189\\Documents\\dnd5e-python, inifile:\n",
      "collecting ... collected 1 item\n",
      "\n",
      "character_scripting.py::test_Character_can_be_created <- <ipython-input-2-24813ad9a017> FAILED [100%]\n",
      "\n",
      "================================== FAILURES ===================================\n",
      "<ipython-input-2-24813ad9a017>:3: NameError: name 'Character' is not defined\n",
      "========================== 1 failed in 0.26 seconds ===========================\n"
     ]
    }
   ],
   "source": [
    "%%run_pytest -v --tb=line\n",
    "\n",
    "def test_Character_can_be_created():\n",
    "    assert Character()"
   ]
  },
  {
   "cell_type": "markdown",
   "metadata": {},
   "source": [
    "#### Test failed (because we are yet to define `Character`). \"Refactor\" the code:"
   ]
  },
  {
   "cell_type": "code",
   "execution_count": 3,
   "metadata": {},
   "outputs": [
    {
     "name": "stdout",
     "output_type": "stream",
     "text": [
      "============================= test session starts =============================\n",
      "platform win32 -- Python 3.6.5, pytest-3.7.1, py-1.5.4, pluggy-0.7.1\n",
      "rootdir: C:\\Users\\dal189\\Documents\\dnd5e-python, inifile:\n",
      "collected 1 item\n",
      "\n",
      "character_scripting.py .                                                 [100%]\n",
      "\n",
      "========================== 1 passed in 0.07 seconds ===========================\n"
     ]
    }
   ],
   "source": [
    "%%run_pytest\n",
    "\n",
    "class Character(object):\n",
    "    pass"
   ]
  },
  {
   "cell_type": "markdown",
   "metadata": {},
   "source": [
    "### [This process](https://en.wikipedia.org/wiki/Test-driven_development#Test-driven_development_cycle) should be repeated for each new requirement\n",
    "1. **Write** the test(s)\n",
    "```python\n",
    "def test_<test_description>():\n",
    "    # Some code (potentially)\n",
    "    assert true_statement\n",
    "```\n",
    "2. **Run** the tests\n",
    "```python\n",
    "%%run_pytest -v --tb=line\n",
    "```\n",
    "3. **Refactor** (update or write new code - including tests) until all tests pass\n",
    "4. **Repeat** for the next requirement"
   ]
  },
  {
   "cell_type": "markdown",
   "metadata": {},
   "source": [
    "## 2. Initialiase `Character` with some details\n",
    "- A string for each of: `name`, `race`, and `character_class`\n",
    "- An integer for `level`, which defaults to 1"
   ]
  },
  {
   "cell_type": "markdown",
   "metadata": {},
   "source": [
    "1. **Write** the test(s)"
   ]
  },
  {
   "cell_type": "code",
   "execution_count": 4,
   "metadata": {},
   "outputs": [
    {
     "name": "stdout",
     "output_type": "stream",
     "text": [
      "============================= test session starts =============================\n",
      "platform win32 -- Python 3.6.5, pytest-3.7.1, py-1.5.4, pluggy-0.7.1 -- c:\\users\\dal189\\documents\\dnd5e-python\\env\\scripts\\python.exe\n",
      "cachedir: .pytest_cache\n",
      "rootdir: C:\\Users\\dal189\\Documents\\dnd5e-python, inifile:\n",
      "collecting ... collected 6 items\n",
      "\n",
      "character_scripting.py::test_Character_can_be_created <- <ipython-input-2-24813ad9a017> PASSED [ 16%]\n",
      "character_scripting.py::test_Character_for_name <- <ipython-input-4-eab3a64ac030> FAILED [ 33%]\n",
      "character_scripting.py::test_Character_for_race <- <ipython-input-4-eab3a64ac030> FAILED [ 50%]\n",
      "character_scripting.py::test_Character_for_character_class <- <ipython-input-4-eab3a64ac030> FAILED [ 66%]\n",
      "character_scripting.py::test_Character_for_level <- <ipython-input-4-eab3a64ac030> FAILED [ 83%]\n",
      "character_scripting.py::test_Character_for_level_default <- <ipython-input-4-eab3a64ac030> FAILED [100%]\n",
      "\n",
      "================================== FAILURES ===================================\n",
      "<ipython-input-4-eab3a64ac030>:3: TypeError: object() takes no parameters\n",
      "<ipython-input-4-eab3a64ac030>:5: TypeError: object() takes no parameters\n",
      "<ipython-input-4-eab3a64ac030>:7: TypeError: object() takes no parameters\n",
      "<ipython-input-4-eab3a64ac030>:9: TypeError: object() takes no parameters\n",
      "<ipython-input-4-eab3a64ac030>:11: TypeError: object() takes no parameters\n",
      "===================== 5 failed, 1 passed in 0.28 seconds ======================\n"
     ]
    }
   ],
   "source": [
    "%%run_pytest -v --tb=line\n",
    "\n",
    "def test_Character_for_name():\n",
    "    assert \"Merret\" == Character(\"Merret\",\"Halfling\",\"Ranger\", 8).name\n",
    "def test_Character_for_race():\n",
    "    assert \"Halfling\" == Character(\"Merret\",\"Halfling\",\"Ranger\", 8)._race\n",
    "def test_Character_for_character_class():\n",
    "    assert \"Ranger\" == Character(\"Merret\",\"Halfling\",\"Ranger\", 8).character_class\n",
    "def test_Character_for_level():\n",
    "    assert 8 == Character(\"Merret\",\"Halfling\",\"Ranger\", 8).level\n",
    "def test_Character_for_level_default():\n",
    "    assert 1 == Character(\"Merret\",\"Halfling\",\"Ranger\").level\n"
   ]
  },
  {
   "cell_type": "markdown",
   "metadata": {},
   "source": [
    "2. **Run** the tests"
   ]
  },
  {
   "cell_type": "code",
   "execution_count": 5,
   "metadata": {},
   "outputs": [
    {
     "name": "stdout",
     "output_type": "stream",
     "text": [
      "============================= test session starts =============================\n",
      "platform win32 -- Python 3.6.5, pytest-3.7.1, py-1.5.4, pluggy-0.7.1 -- c:\\users\\dal189\\documents\\dnd5e-python\\env\\scripts\\python.exe\n",
      "cachedir: .pytest_cache\n",
      "rootdir: C:\\Users\\dal189\\Documents\\dnd5e-python, inifile:\n",
      "collecting ... collected 6 items\n",
      "\n",
      "character_scripting.py::test_Character_can_be_created <- <ipython-input-2-24813ad9a017> FAILED [ 16%]\n",
      "character_scripting.py::test_Character_for_name <- <ipython-input-4-eab3a64ac030> PASSED [ 33%]\n",
      "character_scripting.py::test_Character_for_race <- <ipython-input-4-eab3a64ac030> PASSED [ 50%]\n",
      "character_scripting.py::test_Character_for_character_class <- <ipython-input-4-eab3a64ac030> PASSED [ 66%]\n",
      "character_scripting.py::test_Character_for_level <- <ipython-input-4-eab3a64ac030> PASSED [ 83%]\n",
      "character_scripting.py::test_Character_for_level_default <- <ipython-input-4-eab3a64ac030> PASSED [100%]\n",
      "\n",
      "================================== FAILURES ===================================\n",
      "<ipython-input-2-24813ad9a017>:3: TypeError: __init__() missing 3 required positional arguments: 'name', 'race', and 'character_class'\n",
      "===================== 1 failed, 5 passed in 0.25 seconds ======================\n"
     ]
    }
   ],
   "source": [
    "%%run_pytest -v --tb=line\n",
    "\n",
    "class Character(object):\n",
    "    \n",
    "    def __init__(self, name, race, character_class, level=1):\n",
    "        self.name = name\n",
    "        self._race = race\n",
    "        self.character_class = character_class\n",
    "        self.level = level\n"
   ]
  },
  {
   "cell_type": "markdown",
   "metadata": {},
   "source": [
    "3. **Refactor** - The initial test does not include any inputs to `Character`. Include default values."
   ]
  },
  {
   "cell_type": "code",
   "execution_count": 6,
   "metadata": {},
   "outputs": [
    {
     "name": "stdout",
     "output_type": "stream",
     "text": [
      "============================= test session starts =============================\n",
      "platform win32 -- Python 3.6.5, pytest-3.7.1, py-1.5.4, pluggy-0.7.1 -- c:\\users\\dal189\\documents\\dnd5e-python\\env\\scripts\\python.exe\n",
      "cachedir: .pytest_cache\n",
      "rootdir: C:\\Users\\dal189\\Documents\\dnd5e-python, inifile:\n",
      "collecting ... collected 6 items\n",
      "\n",
      "character_scripting.py::test_Character_can_be_created <- <ipython-input-2-24813ad9a017> PASSED [ 16%]\n",
      "character_scripting.py::test_Character_for_name <- <ipython-input-4-eab3a64ac030> PASSED [ 33%]\n",
      "character_scripting.py::test_Character_for_race <- <ipython-input-4-eab3a64ac030> PASSED [ 50%]\n",
      "character_scripting.py::test_Character_for_character_class <- <ipython-input-4-eab3a64ac030> PASSED [ 66%]\n",
      "character_scripting.py::test_Character_for_level <- <ipython-input-4-eab3a64ac030> PASSED [ 83%]\n",
      "character_scripting.py::test_Character_for_level_default <- <ipython-input-4-eab3a64ac030> PASSED [100%]\n",
      "\n",
      "========================== 6 passed in 0.22 seconds ===========================\n"
     ]
    }
   ],
   "source": [
    "%%run_pytest -v --tb=line\n",
    "\n",
    "class Character(object):\n",
    "    \n",
    "    def __init__(self, name=\"Merret\", race=\"Halfling\", character_class=\"Ranger\", level=1):\n",
    "        self.name = name\n",
    "        self._race = race\n",
    "        self.character_class = character_class\n",
    "        self.level = level\n"
   ]
  },
  {
   "cell_type": "markdown",
   "metadata": {},
   "source": [
    "## 3. Make it that `Character` \"has a\" `Race` and \"has a\" `CharacterClass`\n",
    "- Each is a class of it's own\n",
    "- Build in the ability to check the string with a `__str__` method"
   ]
  },
  {
   "cell_type": "code",
   "execution_count": 7,
   "metadata": {},
   "outputs": [],
   "source": [
    "def test_Character_has_a_Race():\n",
    "    assert isinstance(Character()._race, Race)\n",
    "def test_Character_has_a_CharacterClass():\n",
    "    assert isinstance(Character().character_class, CharacterClass)\n"
   ]
  },
  {
   "cell_type": "code",
   "execution_count": 8,
   "metadata": {},
   "outputs": [
    {
     "name": "stdout",
     "output_type": "stream",
     "text": [
      "============================= test session starts =============================\n",
      "platform win32 -- Python 3.6.5, pytest-3.7.1, py-1.5.4, pluggy-0.7.1 -- c:\\users\\dal189\\documents\\dnd5e-python\\env\\scripts\\python.exe\n",
      "cachedir: .pytest_cache\n",
      "rootdir: C:\\Users\\dal189\\Documents\\dnd5e-python, inifile:\n",
      "collecting ... collected 8 items\n",
      "\n",
      "character_scripting.py::test_Character_can_be_created <- <ipython-input-2-24813ad9a017> PASSED [ 12%]\n",
      "character_scripting.py::test_Character_for_name <- <ipython-input-4-eab3a64ac030> PASSED [ 25%]\n",
      "character_scripting.py::test_Character_for_race <- <ipython-input-4-eab3a64ac030> FAILED [ 37%]\n",
      "character_scripting.py::test_Character_for_character_class <- <ipython-input-4-eab3a64ac030> FAILED [ 50%]\n",
      "character_scripting.py::test_Character_for_level <- <ipython-input-4-eab3a64ac030> PASSED [ 62%]\n",
      "character_scripting.py::test_Character_for_level_default <- <ipython-input-4-eab3a64ac030> PASSED [ 75%]\n",
      "character_scripting.py::test_Character_has_a_Race <- <ipython-input-7-58755c1bd107> PASSED [ 87%]\n",
      "character_scripting.py::test_Character_has_a_CharacterClass <- <ipython-input-7-58755c1bd107> PASSED [100%]\n",
      "\n",
      "================================== FAILURES ===================================\n",
      "<ipython-input-4-eab3a64ac030>:5: AssertionError: assert 'Halfling' == <__main__.Race object at 0x0000023F30858278>\n",
      "<ipython-input-4-eab3a64ac030>:7: AssertionError: assert 'Ranger' == <__main__.CharacterClass object at 0x0000023F30858C18>\n",
      "===================== 2 failed, 6 passed in 0.32 seconds ======================\n"
     ]
    }
   ],
   "source": [
    "%%run_pytest -v --tb=line\n",
    "\n",
    "class Race(object):\n",
    "    \n",
    "    def __init__(self, race):\n",
    "        self._race = race\n",
    "    \n",
    "    def __str__(self):\n",
    "        return self._race\n",
    "\n",
    "\n",
    "class CharacterClass(object):\n",
    "    \n",
    "    def __init__(self, character_class):\n",
    "        self.character_class = character_class\n",
    "    \n",
    "    def __str__(self):\n",
    "        return self.character_class\n",
    "\n",
    "\n",
    "class Character(object):\n",
    "    \n",
    "    def __init__(self, name=\"Merret\", race=\"Halfling\", character_class=\"Ranger\", level=1):\n",
    "        self.name = name\n",
    "        self._race = Race(race) # Changed Line\n",
    "        self.character_class = CharacterClass(character_class) # Changed Line\n",
    "        self.level = level\n"
   ]
  },
  {
   "cell_type": "markdown",
   "metadata": {},
   "source": [
    "#### The new requirement breaks the `test_Character_for_race` and the `test_Character_for_character_class` tests. Refactor the tests to make use of the `__str__` method"
   ]
  },
  {
   "cell_type": "code",
   "execution_count": 9,
   "metadata": {},
   "outputs": [
    {
     "name": "stdout",
     "output_type": "stream",
     "text": [
      "============================= test session starts =============================\n",
      "platform win32 -- Python 3.6.5, pytest-3.7.1, py-1.5.4, pluggy-0.7.1\n",
      "rootdir: C:\\Users\\dal189\\Documents\\dnd5e-python, inifile:\n",
      "collected 8 items\n",
      "\n",
      "character_scripting.py ........                                          [100%]\n",
      "\n",
      "========================== 8 passed in 0.11 seconds ===========================\n"
     ]
    }
   ],
   "source": [
    "%%run_pytest\n",
    "\n",
    "def test_Character_for_race():\n",
    "    assert 'Halfling' == str(Character(race = \"Halfling\")._race)\n",
    "def test_Character_for_character_class():\n",
    "    assert 'Ranger' == str(Character(character_class = \"Ranger\").character_class)"
   ]
  },
  {
   "cell_type": "markdown",
   "metadata": {},
   "source": [
    "## 4. Further develop the `Race` class\n",
    "   - It has subclasses for each race from D&D 5e\n",
    "   - The `__str__` method returns the race name"
   ]
  },
  {
   "cell_type": "code",
   "execution_count": 10,
   "metadata": {},
   "outputs": [],
   "source": [
    "def test_Dwarf_is_a_Race():\n",
    "    assert isinstance(Dwarf(),Race)\n",
    "def test_Elf_is_a_Race():\n",
    "    assert isinstance(Elf(),Race)\n",
    "def test_Halfling_is_a_Race():\n",
    "    assert isinstance(Halfling(),Race)\n",
    "def test_Human_is_a_Race():\n",
    "    assert isinstance(Human(),Race)\n",
    "def test_Dragonborn_is_a_Race():\n",
    "    assert isinstance(Dragonborn(),Race)\n",
    "def test_Gnome_is_a_Race():\n",
    "    assert isinstance(Gnome(),Race)\n",
    "def test_HalfElf_is_a_Race():\n",
    "    assert isinstance(HalfElf(),Race)\n",
    "def test_HalfOrc_is_a_Race():\n",
    "    assert isinstance(HalfOrc(),Race)\n",
    "def test_Tiefling_is_a_Race():\n",
    "    assert isinstance(Tiefling(),Race)"
   ]
  },
  {
   "cell_type": "code",
   "execution_count": 11,
   "metadata": {},
   "outputs": [
    {
     "name": "stdout",
     "output_type": "stream",
     "text": [
      "============================= test session starts =============================\n",
      "platform win32 -- Python 3.6.5, pytest-3.7.1, py-1.5.4, pluggy-0.7.1 -- c:\\users\\dal189\\documents\\dnd5e-python\\env\\scripts\\python.exe\n",
      "cachedir: .pytest_cache\n",
      "rootdir: C:\\Users\\dal189\\Documents\\dnd5e-python, inifile:\n",
      "collecting ... collected 17 items\n",
      "\n",
      "character_scripting.py::test_Dwarf_is_a_Race <- <ipython-input-10-1b7e05b37631> PASSED [  5%]\n",
      "character_scripting.py::test_Elf_is_a_Race <- <ipython-input-10-1b7e05b37631> PASSED [ 11%]\n",
      "character_scripting.py::test_Halfling_is_a_Race <- <ipython-input-10-1b7e05b37631> PASSED [ 17%]\n",
      "character_scripting.py::test_Human_is_a_Race <- <ipython-input-10-1b7e05b37631> PASSED [ 23%]\n",
      "character_scripting.py::test_Dragonborn_is_a_Race <- <ipython-input-10-1b7e05b37631> PASSED [ 29%]\n",
      "character_scripting.py::test_Gnome_is_a_Race <- <ipython-input-10-1b7e05b37631> PASSED [ 35%]\n",
      "character_scripting.py::test_HalfElf_is_a_Race <- <ipython-input-10-1b7e05b37631> PASSED [ 41%]\n",
      "character_scripting.py::test_HalfOrc_is_a_Race <- <ipython-input-10-1b7e05b37631> PASSED [ 47%]\n",
      "character_scripting.py::test_Tiefling_is_a_Race <- <ipython-input-10-1b7e05b37631> PASSED [ 52%]\n",
      "character_scripting.py::test_Character_can_be_created <- <ipython-input-2-24813ad9a017> FAILED [ 58%]\n",
      "character_scripting.py::test_Character_for_name <- <ipython-input-4-eab3a64ac030> FAILED [ 64%]\n",
      "character_scripting.py::test_Character_for_level <- <ipython-input-4-eab3a64ac030> FAILED [ 70%]\n",
      "character_scripting.py::test_Character_for_level_default <- <ipython-input-4-eab3a64ac030> FAILED [ 76%]\n",
      "character_scripting.py::test_Character_has_a_Race <- <ipython-input-7-58755c1bd107> FAILED [ 82%]\n",
      "character_scripting.py::test_Character_has_a_CharacterClass <- <ipython-input-7-58755c1bd107> FAILED [ 88%]\n",
      "character_scripting.py::test_Character_for_race <- <ipython-input-9-79c0606e3b4d> FAILED [ 94%]\n",
      "character_scripting.py::test_Character_for_character_class <- <ipython-input-9-79c0606e3b4d> FAILED [100%]\n",
      "\n",
      "================================== FAILURES ===================================\n",
      "<ipython-input-8-b57830617b50>:24: TypeError: __init__() takes 1 positional argument but 2 were given\n",
      "<ipython-input-8-b57830617b50>:24: TypeError: __init__() takes 1 positional argument but 2 were given\n",
      "<ipython-input-8-b57830617b50>:24: TypeError: __init__() takes 1 positional argument but 2 were given\n",
      "<ipython-input-8-b57830617b50>:24: TypeError: __init__() takes 1 positional argument but 2 were given\n",
      "<ipython-input-8-b57830617b50>:24: TypeError: __init__() takes 1 positional argument but 2 were given\n",
      "<ipython-input-8-b57830617b50>:24: TypeError: __init__() takes 1 positional argument but 2 were given\n",
      "<ipython-input-8-b57830617b50>:24: TypeError: __init__() takes 1 positional argument but 2 were given\n",
      "<ipython-input-8-b57830617b50>:24: TypeError: __init__() takes 1 positional argument but 2 were given\n",
      "===================== 8 failed, 9 passed in 0.66 seconds ======================\n"
     ]
    }
   ],
   "source": [
    "%%run_pytest -v --tb=line\n",
    "\n",
    "class Race(object):\n",
    "    \n",
    "    def __init__(self):\n",
    "        pass\n",
    "    \n",
    "    def __str__(self):\n",
    "        return type(self).__name__ # return the name of the class\n",
    "\n",
    "    \n",
    "class Dwarf(Race):\n",
    "    pass\n",
    "class Elf(Race):\n",
    "    pass\n",
    "class Halfling(Race):\n",
    "    pass\n",
    "class Human(Race):\n",
    "    pass\n",
    "class Dragonborn(Race):\n",
    "    pass\n",
    "class Gnome(Race):\n",
    "    pass\n",
    "class HalfElf(Race):\n",
    "    pass\n",
    "class HalfOrc(Race):\n",
    "    pass\n",
    "class Tiefling(Race):\n",
    "    pass\n"
   ]
  },
  {
   "cell_type": "markdown",
   "metadata": {},
   "source": [
    "#### Must update assignment of `_race` in `Character`"
   ]
  },
  {
   "cell_type": "code",
   "execution_count": 12,
   "metadata": {},
   "outputs": [
    {
     "name": "stdout",
     "output_type": "stream",
     "text": [
      "============================= test session starts =============================\n",
      "platform win32 -- Python 3.6.5, pytest-3.7.1, py-1.5.4, pluggy-0.7.1\n",
      "rootdir: C:\\Users\\dal189\\Documents\\dnd5e-python, inifile:\n",
      "collected 17 items\n",
      "\n",
      "character_scripting.py .................                                 [100%]\n",
      "\n",
      "========================== 17 passed in 0.18 seconds ==========================\n"
     ]
    }
   ],
   "source": [
    "%%run_pytest\n",
    "\n",
    "class Character(object):\n",
    "    \n",
    "    def __init__(self, name=\"Merret\", race=\"Halfling\", character_class=\"Ranger\", level=1):\n",
    "        self.name = name\n",
    "        self._race = globals()[race.title()]() # Changed Line\n",
    "        self.character_class = CharacterClass(character_class)\n",
    "        self.level = level\n"
   ]
  },
  {
   "cell_type": "markdown",
   "metadata": {},
   "source": [
    "## 5. Further develop the `CharacterClass` class\n",
    "   - It has subclasses for each character class from D&D 5e\n",
    "   - The `__str__` method returns the character class name"
   ]
  },
  {
   "cell_type": "code",
   "execution_count": 13,
   "metadata": {},
   "outputs": [],
   "source": [
    "def test_Barbarian_is_a_CharacterClass():\n",
    "    assert isinstance(Barbarian(),CharacterClass)\n",
    "def test_Bard_is_a_CharacterClass():\n",
    "    assert isinstance(Bard(),CharacterClass)\n",
    "def test_Cleric_is_a_CharacterClass():\n",
    "    assert isinstance(Cleric(),CharacterClass)\n",
    "def test_Druid_is_a_CharacterClass():\n",
    "    assert isinstance(Druid(),CharacterClass)\n",
    "def test_Fighter_is_a_CharacterClass():\n",
    "    assert isinstance(Fighter(),CharacterClass)\n",
    "def test_Monk_is_a_CharacterClass():\n",
    "    assert isinstance(Monk(),CharacterClass)\n",
    "def test_Paladin_is_a_CharacterClass():\n",
    "    assert isinstance(Paladin(),CharacterClass)\n",
    "def test_Ranger_is_a_CharacterClass():\n",
    "    assert isinstance(Ranger(),CharacterClass)\n",
    "def test_Rogue_is_a_CharacterClass():\n",
    "    assert isinstance(Rogue(),CharacterClass)\n",
    "def test_Sorcerer_is_a_CharacterClass():\n",
    "    assert isinstance(Sorcerer(),CharacterClass)\n",
    "def test_Warlock_is_a_CharacterClass():\n",
    "    assert isinstance(Warlock(),CharacterClass)\n",
    "def test_Wizard_is_a_CharacterClass():\n",
    "    assert isinstance(Wizard(),CharacterClass)"
   ]
  },
  {
   "cell_type": "code",
   "execution_count": 14,
   "metadata": {},
   "outputs": [
    {
     "name": "stdout",
     "output_type": "stream",
     "text": [
      "============================= test session starts =============================\n",
      "platform win32 -- Python 3.6.5, pytest-3.7.1, py-1.5.4, pluggy-0.7.1\n",
      "rootdir: C:\\Users\\dal189\\Documents\\dnd5e-python, inifile:\n",
      "collected 29 items\n",
      "\n",
      "character_scripting.py .............................                     [100%]\n",
      "\n",
      "========================== 29 passed in 0.23 seconds ==========================\n"
     ]
    }
   ],
   "source": [
    "%%run_pytest\n",
    "\n",
    "class CharacterClass(object):\n",
    "    \n",
    "    def __init__(self):\n",
    "        pass\n",
    "    \n",
    "    def __str__(self):\n",
    "        return type(self).__name__ # return the name of the class\n",
    "\n",
    "    \n",
    "class Barbarian(CharacterClass):\n",
    "    pass\n",
    "class Bard(CharacterClass):\n",
    "    pass\n",
    "class Cleric(CharacterClass):\n",
    "    pass\n",
    "class Druid(CharacterClass):\n",
    "    pass\n",
    "class Fighter(CharacterClass):\n",
    "    pass\n",
    "class Monk(CharacterClass):\n",
    "    pass\n",
    "class Paladin(CharacterClass):\n",
    "    pass\n",
    "class Ranger(CharacterClass):\n",
    "    pass\n",
    "class Rogue(CharacterClass):\n",
    "    pass\n",
    "class Sorcerer(CharacterClass):\n",
    "    pass\n",
    "class Warlock(CharacterClass):\n",
    "    pass\n",
    "class Wizard(CharacterClass):\n",
    "    pass\n",
    "\n",
    "# Same problem will occur as when changing Race, so adjust this for CharacterClass now\n",
    "class Character(object):\n",
    "    \n",
    "    def __init__(self, name=\"Merret\", race=\"Halfling\", character_class=\"Ranger\", level=1):\n",
    "        self.name = name\n",
    "        self._race = globals()[race.title()]()\n",
    "        self.character_class = globals()[character_class.title()]() # Changed Line\n",
    "        self.level = level\n"
   ]
  },
  {
   "cell_type": "markdown",
   "metadata": {},
   "source": [
    "## 6. Initialise a `Player` class which \"is a\" `Character`"
   ]
  },
  {
   "cell_type": "code",
   "execution_count": 15,
   "metadata": {},
   "outputs": [],
   "source": [
    "def test_Player_is_a_Character():\n",
    "    assert isinstance(Player(),Character)"
   ]
  },
  {
   "cell_type": "code",
   "execution_count": 16,
   "metadata": {},
   "outputs": [
    {
     "name": "stdout",
     "output_type": "stream",
     "text": [
      "============================= test session starts =============================\n",
      "platform win32 -- Python 3.6.5, pytest-3.7.1, py-1.5.4, pluggy-0.7.1\n",
      "rootdir: C:\\Users\\dal189\\Documents\\dnd5e-python, inifile:\n",
      "collected 30 items\n",
      "\n",
      "character_scripting.py ..............................                    [100%]\n",
      "\n",
      "========================== 30 passed in 0.24 seconds ==========================\n"
     ]
    }
   ],
   "source": [
    "%%run_pytest\n",
    "\n",
    "class Player(Character):\n",
    "    pass"
   ]
  },
  {
   "cell_type": "markdown",
   "metadata": {},
   "source": [
    "## 7. Initialise a `NonPlayer` class which \"is a\" `Character`"
   ]
  },
  {
   "cell_type": "code",
   "execution_count": 17,
   "metadata": {},
   "outputs": [],
   "source": [
    "def test_NonPlayer_is_a_Character():\n",
    "    assert isinstance(NonPlayer(),Character)"
   ]
  },
  {
   "cell_type": "code",
   "execution_count": 18,
   "metadata": {},
   "outputs": [
    {
     "name": "stdout",
     "output_type": "stream",
     "text": [
      "============================= test session starts =============================\n",
      "platform win32 -- Python 3.6.5, pytest-3.7.1, py-1.5.4, pluggy-0.7.1\n",
      "rootdir: C:\\Users\\dal189\\Documents\\dnd5e-python, inifile:\n",
      "collected 31 items\n",
      "\n",
      "character_scripting.py ...............................                   [100%]\n",
      "\n",
      "========================== 31 passed in 0.25 seconds ==========================\n"
     ]
    }
   ],
   "source": [
    "%%run_pytest\n",
    "\n",
    "class NonPlayer(Character):\n",
    "    pass"
   ]
  },
  {
   "cell_type": "markdown",
   "metadata": {},
   "source": [
    "## 8. Initialise a `Weapon` class"
   ]
  },
  {
   "cell_type": "code",
   "execution_count": 19,
   "metadata": {},
   "outputs": [],
   "source": [
    "def test_Weapon_can_be_created():\n",
    "    assert Weapon()"
   ]
  },
  {
   "cell_type": "code",
   "execution_count": 20,
   "metadata": {},
   "outputs": [
    {
     "name": "stdout",
     "output_type": "stream",
     "text": [
      "============================= test session starts =============================\n",
      "platform win32 -- Python 3.6.5, pytest-3.7.1, py-1.5.4, pluggy-0.7.1\n",
      "rootdir: C:\\Users\\dal189\\Documents\\dnd5e-python, inifile:\n",
      "collected 32 items\n",
      "\n",
      "character_scripting.py ................................                  [100%]\n",
      "\n",
      "========================== 32 passed in 0.26 seconds ==========================\n"
     ]
    }
   ],
   "source": [
    "%%run_pytest\n",
    "\n",
    "class Weapon(object):\n",
    "    pass"
   ]
  },
  {
   "cell_type": "markdown",
   "metadata": {},
   "source": [
    "## 9. Initialise a `Spell` class"
   ]
  },
  {
   "cell_type": "code",
   "execution_count": 21,
   "metadata": {},
   "outputs": [],
   "source": [
    "def test_Spell_can_be_created():\n",
    "    assert Spell()"
   ]
  },
  {
   "cell_type": "code",
   "execution_count": 22,
   "metadata": {},
   "outputs": [
    {
     "name": "stdout",
     "output_type": "stream",
     "text": [
      "============================= test session starts =============================\n",
      "platform win32 -- Python 3.6.5, pytest-3.7.1, py-1.5.4, pluggy-0.7.1\n",
      "rootdir: C:\\Users\\dal189\\Documents\\dnd5e-python, inifile:\n",
      "collected 33 items\n",
      "\n",
      "character_scripting.py .................................                 [100%]\n",
      "\n",
      "========================== 33 passed in 0.29 seconds ==========================\n"
     ]
    }
   ],
   "source": [
    "%%run_pytest\n",
    "\n",
    "class Spell(object):\n",
    "    pass"
   ]
  },
  {
   "cell_type": "markdown",
   "metadata": {},
   "source": [
    "## 10. Initialise an `Ability` class"
   ]
  },
  {
   "cell_type": "code",
   "execution_count": 23,
   "metadata": {},
   "outputs": [],
   "source": [
    "def test_Ability_can_be_created():\n",
    "    assert Ability()"
   ]
  },
  {
   "cell_type": "code",
   "execution_count": 24,
   "metadata": {
    "scrolled": true
   },
   "outputs": [
    {
     "name": "stdout",
     "output_type": "stream",
     "text": [
      "============================= test session starts =============================\n",
      "platform win32 -- Python 3.6.5, pytest-3.7.1, py-1.5.4, pluggy-0.7.1\n",
      "rootdir: C:\\Users\\dal189\\Documents\\dnd5e-python, inifile:\n",
      "collected 34 items\n",
      "\n",
      "character_scripting.py ..................................                [100%]\n",
      "\n",
      "========================== 34 passed in 0.28 seconds ==========================\n"
     ]
    }
   ],
   "source": [
    "%%run_pytest\n",
    "\n",
    "class Ability(object):\n",
    "    pass"
   ]
  },
  {
   "cell_type": "markdown",
   "metadata": {},
   "source": [
    "## 11. Add to `Ability` class\n",
    "   - `Ability` has the `check()` method and `modifier` and `score` properties"
   ]
  },
  {
   "cell_type": "code",
   "execution_count": 25,
   "metadata": {},
   "outputs": [],
   "source": [
    "def test_Ability_has_check():\n",
    "    assert Ability().check()\n",
    "def test_Ability_has_modifier():\n",
    "    assert Ability().modifier is not None\n",
    "def test_Ability_has_score():\n",
    "    assert Ability().score"
   ]
  },
  {
   "cell_type": "code",
   "execution_count": 26,
   "metadata": {},
   "outputs": [
    {
     "name": "stdout",
     "output_type": "stream",
     "text": [
      "============================= test session starts =============================\n",
      "platform win32 -- Python 3.6.5, pytest-3.7.1, py-1.5.4, pluggy-0.7.1 -- c:\\users\\dal189\\documents\\dnd5e-python\\env\\scripts\\python.exe\n",
      "cachedir: .pytest_cache\n",
      "rootdir: C:\\Users\\dal189\\Documents\\dnd5e-python, inifile:\n",
      "collecting ... collected 37 items\n",
      "\n",
      "character_scripting.py::test_Dwarf_is_a_Race <- <ipython-input-10-1b7e05b37631> PASSED [  2%]\n",
      "character_scripting.py::test_Elf_is_a_Race <- <ipython-input-10-1b7e05b37631> PASSED [  5%]\n",
      "character_scripting.py::test_Halfling_is_a_Race <- <ipython-input-10-1b7e05b37631> PASSED [  8%]\n",
      "character_scripting.py::test_Human_is_a_Race <- <ipython-input-10-1b7e05b37631> PASSED [ 10%]\n",
      "character_scripting.py::test_Dragonborn_is_a_Race <- <ipython-input-10-1b7e05b37631> PASSED [ 13%]\n",
      "character_scripting.py::test_Gnome_is_a_Race <- <ipython-input-10-1b7e05b37631> PASSED [ 16%]\n",
      "character_scripting.py::test_HalfElf_is_a_Race <- <ipython-input-10-1b7e05b37631> PASSED [ 18%]\n",
      "character_scripting.py::test_HalfOrc_is_a_Race <- <ipython-input-10-1b7e05b37631> PASSED [ 21%]\n",
      "character_scripting.py::test_Tiefling_is_a_Race <- <ipython-input-10-1b7e05b37631> PASSED [ 24%]\n",
      "character_scripting.py::test_Barbarian_is_a_CharacterClass <- <ipython-input-13-404d45382413> PASSED [ 27%]\n",
      "character_scripting.py::test_Bard_is_a_CharacterClass <- <ipython-input-13-404d45382413> PASSED [ 29%]\n",
      "character_scripting.py::test_Cleric_is_a_CharacterClass <- <ipython-input-13-404d45382413> PASSED [ 32%]\n",
      "character_scripting.py::test_Druid_is_a_CharacterClass <- <ipython-input-13-404d45382413> PASSED [ 35%]\n",
      "character_scripting.py::test_Fighter_is_a_CharacterClass <- <ipython-input-13-404d45382413> PASSED [ 37%]\n",
      "character_scripting.py::test_Monk_is_a_CharacterClass <- <ipython-input-13-404d45382413> PASSED [ 40%]\n",
      "character_scripting.py::test_Paladin_is_a_CharacterClass <- <ipython-input-13-404d45382413> PASSED [ 43%]\n",
      "character_scripting.py::test_Ranger_is_a_CharacterClass <- <ipython-input-13-404d45382413> PASSED [ 45%]\n",
      "character_scripting.py::test_Rogue_is_a_CharacterClass <- <ipython-input-13-404d45382413> PASSED [ 48%]\n",
      "character_scripting.py::test_Sorcerer_is_a_CharacterClass <- <ipython-input-13-404d45382413> PASSED [ 51%]\n",
      "character_scripting.py::test_Warlock_is_a_CharacterClass <- <ipython-input-13-404d45382413> PASSED [ 54%]\n",
      "character_scripting.py::test_Wizard_is_a_CharacterClass <- <ipython-input-13-404d45382413> PASSED [ 56%]\n",
      "character_scripting.py::test_Player_is_a_Character <- <ipython-input-15-0e410eeb099a> PASSED [ 59%]\n",
      "character_scripting.py::test_NonPlayer_is_a_Character <- <ipython-input-17-ec70e452f4ca> PASSED [ 62%]\n",
      "character_scripting.py::test_Weapon_can_be_created <- <ipython-input-19-dcf591d50261> PASSED [ 64%]\n",
      "character_scripting.py::test_Character_can_be_created <- <ipython-input-2-24813ad9a017> PASSED [ 67%]\n",
      "character_scripting.py::test_Spell_can_be_created <- <ipython-input-21-0a16777caab3> PASSED [ 70%]\n",
      "character_scripting.py::test_Ability_can_be_created <- <ipython-input-23-b2e8992d81fd> PASSED [ 72%]\n",
      "character_scripting.py::test_Ability_has_check <- <ipython-input-25-a808b2ec2e14> PASSED [ 75%]\n",
      "character_scripting.py::test_Ability_has_modifier <- <ipython-input-25-a808b2ec2e14> PASSED [ 78%]\n",
      "character_scripting.py::test_Ability_has_score <- <ipython-input-25-a808b2ec2e14> PASSED [ 81%]\n",
      "character_scripting.py::test_Character_for_name <- <ipython-input-4-eab3a64ac030> PASSED [ 83%]\n",
      "character_scripting.py::test_Character_for_level <- <ipython-input-4-eab3a64ac030> PASSED [ 86%]\n",
      "character_scripting.py::test_Character_for_level_default <- <ipython-input-4-eab3a64ac030> PASSED [ 89%]\n",
      "character_scripting.py::test_Character_has_a_Race <- <ipython-input-7-58755c1bd107> PASSED [ 91%]\n",
      "character_scripting.py::test_Character_has_a_CharacterClass <- <ipython-input-7-58755c1bd107> PASSED [ 94%]\n",
      "character_scripting.py::test_Character_for_race <- <ipython-input-9-79c0606e3b4d> PASSED [ 97%]\n",
      "character_scripting.py::test_Character_for_character_class <- <ipython-input-9-79c0606e3b4d> PASSED [100%]\n",
      "\n",
      "========================== 37 passed in 0.98 seconds ==========================\n"
     ]
    }
   ],
   "source": [
    "%%run_pytest -v --tb=line\n",
    "\n",
    "import random\n",
    "\n",
    "class Ability(object):\n",
    "    \n",
    "    def __init__(self, score=10):\n",
    "        self.score = score\n",
    "        self.modifier = int((score - 10) / 2)\n",
    "        \n",
    "    def check(self):\n",
    "        return random.randint(1,20) + self.modifier\n",
    "    "
   ]
  },
  {
   "cell_type": "markdown",
   "metadata": {},
   "source": [
    "## 12. Each ability (`Strength` etc...) is a subclass of `Ability`"
   ]
  },
  {
   "cell_type": "code",
   "execution_count": 27,
   "metadata": {},
   "outputs": [],
   "source": [
    "def test_Strength_is_an_Ability():\n",
    "    assert isinstance(Strength(),Ability)\n",
    "def test_Dexterity_is_an_Ability():\n",
    "    assert isinstance(Dexterity(),Ability)\n",
    "def test_Constitution_is_an_Ability():\n",
    "    assert isinstance(Constitution(),Ability)\n",
    "def test_Intelligence_is_an_Ability():\n",
    "    assert isinstance(Intelligence(),Ability)\n",
    "def test_Wisdom_is_an_Ability():\n",
    "    assert isinstance(Wisdom(),Ability)\n",
    "def test_Charisma_is_an_Ability():\n",
    "    assert isinstance(Charisma(),Ability)"
   ]
  },
  {
   "cell_type": "code",
   "execution_count": 28,
   "metadata": {
    "scrolled": true
   },
   "outputs": [
    {
     "name": "stdout",
     "output_type": "stream",
     "text": [
      "============================= test session starts =============================\n",
      "platform win32 -- Python 3.6.5, pytest-3.7.1, py-1.5.4, pluggy-0.7.1\n",
      "rootdir: C:\\Users\\dal189\\Documents\\dnd5e-python, inifile:\n",
      "collected 43 items\n",
      "\n",
      "character_scripting.py ...........................................       [100%]\n",
      "\n",
      "========================== 43 passed in 0.31 seconds ==========================\n"
     ]
    }
   ],
   "source": [
    "%%run_pytest\n",
    "\n",
    "class Strength(Ability):\n",
    "    pass\n",
    "class Dexterity(Ability):\n",
    "    pass\n",
    "class Constitution(Ability):\n",
    "    pass\n",
    "class Intelligence(Ability):\n",
    "    pass\n",
    "class Wisdom(Ability):\n",
    "    pass\n",
    "class Charisma(Ability):\n",
    "    pass"
   ]
  },
  {
   "cell_type": "markdown",
   "metadata": {},
   "source": [
    "## 13. Each `Ability` subclass has skills\n",
    "   - Skills and saving throws are kept in a dictionary called `proficiencies`\n",
    "   - `proficiencies` key:value pairs are all `skill : <bool>`"
   ]
  },
  {
   "cell_type": "code",
   "execution_count": 29,
   "metadata": {},
   "outputs": [],
   "source": [
    "# Has skills\n",
    "def test_Strength_has_skills():\n",
    "    assert isinstance(Strength().proficiencies,dict)\n",
    "def test_Dexterity_has_skills():\n",
    "    assert isinstance(Dexterity().proficiencies,dict)\n",
    "def test_Constitution_has_skills():\n",
    "    assert isinstance(Constitution().proficiencies,dict)\n",
    "def test_Intelligence_has_skills():\n",
    "    assert isinstance(Intelligence().proficiencies,dict)\n",
    "def test_Wisdom_has_skills():\n",
    "    assert isinstance(Wisdom().proficiencies,dict)\n",
    "def test_Charisma_has_skills():\n",
    "    assert isinstance(Charisma().proficiencies,dict)\n",
    "\n",
    "# Are booleans\n",
    "def test_Strength_skills_are_bool():\n",
    "    assert isinstance(list(Strength().proficiencies.values())[0],bool)\n",
    "def test_Dexterity_skills_are_bool():\n",
    "    assert isinstance(list(Dexterity().proficiencies.values())[0],bool)\n",
    "def test_Constitution_skills_are_bool():\n",
    "    assert isinstance(list(Constitution().proficiencies.values())[0],bool)\n",
    "def test_Intelligence_skills_are_bool():\n",
    "    assert isinstance(list(Intelligence().proficiencies.values())[0],bool)\n",
    "def test_Wisdom_has_skills_are_bool():\n",
    "    assert isinstance(list(Wisdom().proficiencies.values())[0],bool)\n",
    "def test_Charisma_has_skills_are_bool():\n",
    "    assert isinstance(list(Charisma().proficiencies.values())[0],bool)"
   ]
  },
  {
   "cell_type": "code",
   "execution_count": 30,
   "metadata": {},
   "outputs": [
    {
     "name": "stdout",
     "output_type": "stream",
     "text": [
      "============================= test session starts =============================\n",
      "platform win32 -- Python 3.6.5, pytest-3.7.1, py-1.5.4, pluggy-0.7.1\n",
      "rootdir: C:\\Users\\dal189\\Documents\\dnd5e-python, inifile:\n",
      "collected 55 items\n",
      "\n",
      "character_scripting.py ................................................. [ 89%]\n",
      "......                                                                   [100%]\n",
      "\n",
      "========================== 55 passed in 0.39 seconds ==========================\n"
     ]
    }
   ],
   "source": [
    "%%run_pytest\n",
    "\n",
    "#################### DOUBLE CHECK i HAVE THE CORRECT LIST OF SKILLS\n",
    "\n",
    "class Strength(Ability):\n",
    "    \n",
    "    def __init__(self, score=10, proficiencies=[]):\n",
    "        skill_list = [\"Saving Throw\", \"Athletics\"]\n",
    "        proficiencies = [prof.title() for prof in proficiencies]\n",
    "        self.proficiencies = {\n",
    "            skill:skill in proficiencies for skill in skill_list\n",
    "        }\n",
    "        super().__init__(score)\n",
    "    \n",
    "class Dexterity(Ability):\n",
    "    \n",
    "    def __init__(self, score=10, proficiencies=[]):\n",
    "        skill_list = [\"Saving Throw\", \"Acrobatics\", \"Sleight of Hand\",\n",
    "                     \"Stealth\"]\n",
    "        proficiencies = [prof.title() for prof in proficiencies]\n",
    "        self.proficiencies = {\n",
    "            skill:skill in proficiencies for skill in skill_list\n",
    "        }\n",
    "        super().__init__(score)\n",
    "    \n",
    "class Constitution(Ability):\n",
    "    \n",
    "    def __init__(self, score=10, proficiencies=[]):\n",
    "        skill_list = [\"Saving Throw\"]\n",
    "        proficiencies = [prof.title() for prof in proficiencies]\n",
    "        self.proficiencies = {\n",
    "            skill:skill in proficiencies for skill in skill_list\n",
    "        }\n",
    "        super().__init__(score)\n",
    "    \n",
    "class Intelligence(Ability):\n",
    "    \n",
    "    def __init__(self, score=10, proficiencies=[]):\n",
    "        skill_list = [\"Saving Throw\", \"History\", \"Arcana\", \"Religion\"]\n",
    "        proficiencies = [prof.title() for prof in proficiencies]\n",
    "        self.proficiencies = {\n",
    "            skill:skill in proficiencies for skill in skill_list\n",
    "        }\n",
    "        super().__init__(score)\n",
    "    \n",
    "class Wisdom(Ability):\n",
    "    \n",
    "    def __init__(self, score=10, proficiencies=[]):\n",
    "        skill_list = [\"Saving Throw\", \"Medicine\", \"Perception\", \"Insight\"]\n",
    "        proficiencies = [prof.title() for prof in proficiencies]\n",
    "        self.proficiencies = {\n",
    "            skill:skill in proficiencies for skill in skill_list\n",
    "        }\n",
    "        super().__init__(score)\n",
    "    \n",
    "class Charisma(Ability):\n",
    "    \n",
    "    def __init__(self, score=10, proficiencies=[]):\n",
    "        skill_list = [\"Saving Throw\", \"Persuasion\", \"Deception\",\n",
    "                      \"Intimidation\", \"Performance\"]\n",
    "        proficiencies = [prof.title() for prof in proficiencies]\n",
    "        self.proficiencies = {\n",
    "            skill:skill in proficiencies for skill in skill_list\n",
    "        }\n",
    "        super().__init__(score)\n",
    "    "
   ]
  },
  {
   "cell_type": "code",
   "execution_count": null,
   "metadata": {},
   "outputs": [],
   "source": []
  },
  {
   "cell_type": "code",
   "execution_count": null,
   "metadata": {},
   "outputs": [],
   "source": []
  },
  {
   "cell_type": "code",
   "execution_count": null,
   "metadata": {},
   "outputs": [],
   "source": []
  },
  {
   "cell_type": "code",
   "execution_count": null,
   "metadata": {},
   "outputs": [],
   "source": []
  },
  {
   "cell_type": "code",
   "execution_count": 31,
   "metadata": {},
   "outputs": [],
   "source": [
    "# Main superclass for the Class of a Character\n",
    "# Includes all aspects that are common to all classes\n",
    "class CharacterClass(object):\n",
    "    \n",
    "    def __init__(self):\n",
    "        pass\n",
    "    \n",
    "    def __str__(self):\n",
    "        return type(self).__name__\n",
    "    "
   ]
  },
  {
   "cell_type": "code",
   "execution_count": 32,
   "metadata": {},
   "outputs": [],
   "source": [
    "# Example of specific Character Classes - \"is a\" CharacterClass\n",
    "class Barbarian(CharacterClass):\n",
    "    pass\n",
    "\n",
    "class Bard(CharacterClass):\n",
    "    pass\n",
    "\n",
    "class Ranger(CharacterClass):\n",
    "    pass\n",
    "\n",
    "class Sorceror(CharacterClass):\n",
    "    pass\n"
   ]
  },
  {
   "cell_type": "code",
   "execution_count": 33,
   "metadata": {},
   "outputs": [],
   "source": [
    "# Main superclass for the Race of a Character\n",
    "class Race(object):\n",
    "    \n",
    "    def __init__(self):\n",
    "        pass\n",
    "    \n",
    "    def __str__(self):\n",
    "        return type(self).__name__\n",
    "    "
   ]
  },
  {
   "cell_type": "code",
   "execution_count": 34,
   "metadata": {},
   "outputs": [],
   "source": [
    "# Example of a specific Character Race - \"is a\" Race\n",
    "class Halfling(Race):\n",
    "    pass\n",
    "\n",
    "class Tiefling(Race):\n",
    "    pass\n"
   ]
  },
  {
   "cell_type": "code",
   "execution_count": 35,
   "metadata": {},
   "outputs": [],
   "source": [
    "# Main class for all Characters - \"has a\" Race and Class\n",
    "class Character(object):\n",
    "    \n",
    "    def __init__(self, name, race, character_class, level=1):\n",
    "        self.name = name\n",
    "        self._class = globals()[character_class.title()]()\n",
    "        self._race = globals()[race.title()]()\n",
    "        self.level = level\n",
    "        "
   ]
  },
  {
   "cell_type": "code",
   "execution_count": 36,
   "metadata": {},
   "outputs": [],
   "source": [
    "# Main class for Player Characters - \"is a\" Character\n",
    "class Player(Character):\n",
    "    \n",
    "    def __init__(self, name, race, character_class, ability_scores, level=1):\n",
    "        super().__init__(name, race, character_class, level)\n",
    "        self.__spellcaster = str(self._class) in [\n",
    "            \"Bard\", \"Druid\", \"Ranger\", \"Sorceror\", \"Wizard\", \"Warlock\"]\n",
    "        self.ability_scores = {\n",
    "            \"Strength\" : ability_scores[0],\n",
    "            \"Dexterity\" : ability_scores[1],\n",
    "            \"Constitution\" : ability_scores[2],\n",
    "            \"Intelligence\" : ability_scores[3],\n",
    "            \"Wisdom\" : ability_scores[4],\n",
    "            \"Charisma\" : ability_scores[5]\n",
    "        }\n",
    "        \n",
    "    def __str__(self):\n",
    "        return \"A level {0} {1} {2} called {3}\".format(\n",
    "            self.level, \n",
    "            str(self._race).title(),\n",
    "            str(self._class),\n",
    "            self.name.title())\n",
    "    \n",
    "    def attack(self):\n",
    "        pass"
   ]
  },
  {
   "cell_type": "code",
   "execution_count": 37,
   "metadata": {},
   "outputs": [],
   "source": [
    "# Main class for Non-Player Characters - \"is a\" Character\n",
    "class NonPlayer(Character):\n",
    "    pass"
   ]
  },
  {
   "cell_type": "code",
   "execution_count": 38,
   "metadata": {},
   "outputs": [],
   "source": [
    "merret = Player(\"Merret Strongheart\",\n",
    "                   \"Halfling\",\n",
    "                   \"ranger\",\n",
    "                   [12, 20, 12, 8, 16, 8],\n",
    "                   9)"
   ]
  },
  {
   "cell_type": "code",
   "execution_count": 39,
   "metadata": {},
   "outputs": [
    {
     "name": "stdout",
     "output_type": "stream",
     "text": [
      "Ranger\n"
     ]
    }
   ],
   "source": [
    "print(merret._class)"
   ]
  },
  {
   "cell_type": "code",
   "execution_count": 40,
   "metadata": {},
   "outputs": [
    {
     "data": {
      "text/plain": [
       "True"
      ]
     },
     "execution_count": 40,
     "metadata": {},
     "output_type": "execute_result"
    }
   ],
   "source": [
    "merret._Player__spellcaster"
   ]
  },
  {
   "cell_type": "code",
   "execution_count": 41,
   "metadata": {},
   "outputs": [
    {
     "name": "stdout",
     "output_type": "stream",
     "text": [
      "A level 9 Halfling Ranger called Merret Strongheart\n"
     ]
    }
   ],
   "source": [
    "print(merret)"
   ]
  },
  {
   "cell_type": "code",
   "execution_count": 42,
   "metadata": {},
   "outputs": [],
   "source": [
    "despair = Player(\"Despair\", \"Tiefling\", \"Sorceror\", [9, 11, 15, 14, 13, 20], 8)"
   ]
  },
  {
   "cell_type": "code",
   "execution_count": 43,
   "metadata": {},
   "outputs": [
    {
     "data": {
      "text/plain": [
       "True"
      ]
     },
     "execution_count": 43,
     "metadata": {},
     "output_type": "execute_result"
    }
   ],
   "source": [
    "despair._Player__spellcaster"
   ]
  },
  {
   "cell_type": "code",
   "execution_count": 44,
   "metadata": {},
   "outputs": [
    {
     "name": "stdout",
     "output_type": "stream",
     "text": [
      "A level 8 Tiefling Sorceror called Despair\n"
     ]
    }
   ],
   "source": [
    "print(despair)"
   ]
  },
  {
   "cell_type": "code",
   "execution_count": null,
   "metadata": {},
   "outputs": [],
   "source": []
  }
 ],
 "metadata": {
  "kernelspec": {
   "display_name": "Python 3",
   "language": "python",
   "name": "python3"
  },
  "language_info": {
   "codemirror_mode": {
    "name": "ipython",
    "version": 3
   },
   "file_extension": ".py",
   "mimetype": "text/x-python",
   "name": "python",
   "nbconvert_exporter": "python",
   "pygments_lexer": "ipython3",
   "version": "3.6.5"
  }
 },
 "nbformat": 4,
 "nbformat_minor": 2
}
