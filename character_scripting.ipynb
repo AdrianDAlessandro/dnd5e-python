{
 "cells": [
  {
   "cell_type": "markdown",
   "metadata": {},
   "source": [
    "# Test Driven Development of Character class layout\n",
    "\n",
    "This notebook serves two purposes:\n",
    "- To develop the program (layout of classes, data structures, etc) for the interactive character sheet\n",
    "- To provide an example of test driven development\n",
    "\n",
    "## Objective\n",
    "\n",
    "We want to be able to initialise/create a Character object that can return all of the essential information about about the D&D Character. It should also be able to level up and contain methods for all actions in combat.\n",
    "\n",
    "## List of Requirements (Update this time)\n",
    "1. Initialise a `Character` object\n",
    "2. Initialiase `Character` with some details\n",
    "    - A string for each of: `name`, `race`, and `character_class`\n",
    "    - An integer for `level`, which defaults to 1\n",
    "3. Make it that `Character` \"has a\" `Race` and \"has a\" `CharacterClass`\n",
    "    - Each is a class of it's own\n",
    "    - Build in the ability to check the string with a `__str__` method\n",
    "4. Further develop the `Race` class\n",
    "    - It has subclasses for each race from D&D 5e\n",
    "    - The `__str__` method returns the race name\n",
    "5. Further develop the `CharacterClass` class\n",
    "    - It has subclasses for each character class from D&D 5e\n",
    "    - The `__str__` method returns the character class name\n",
    "6. Create a `Player` class which \"is a\" `Character`\n",
    "7. Create a `NonPlayer` class which \"is a\" `Character`\n",
    "8. "
   ]
  },
  {
   "cell_type": "markdown",
   "metadata": {
    "slideshow": {
     "slide_type": "fragment"
    }
   },
   "source": [
    "#### First, import the testing modules:"
   ]
  },
  {
   "cell_type": "code",
   "execution_count": 1,
   "metadata": {},
   "outputs": [],
   "source": [
    "# Set the file name for unit testing iwth ipytest\n",
    "__file__ = 'character_scripting.ipynb'\n",
    "\n",
    "import pytest\n",
    "import ipytest.magics"
   ]
  },
  {
   "cell_type": "markdown",
   "metadata": {},
   "source": [
    "## 1. Initialise a `Character` object"
   ]
  },
  {
   "cell_type": "markdown",
   "metadata": {},
   "source": [
    "#### Make sure the tests are defined *before* the main code is written:"
   ]
  },
  {
   "cell_type": "code",
   "execution_count": 2,
   "metadata": {},
   "outputs": [
    {
     "name": "stdout",
     "output_type": "stream",
     "text": [
      "============================= test session starts =============================\n",
      "platform win32 -- Python 3.6.5, pytest-3.6.3, py-1.5.4, pluggy-0.6.0 -- C:\\Users\\dal189\\AppData\\Local\\Continuum\\anaconda3\\envs\\training\\python.exe\n",
      "cachedir: .pytest_cache\n",
      "rootdir: C:\\Users\\dal189\\Documents\\dnd5e-python, inifile:\n",
      "collecting ... collected 1 item\n",
      "\n",
      "character_scripting.py::test_Character_can_be_created <- <ipython-input-2-24813ad9a017> FAILED [100%]\n",
      "\n",
      "================================== FAILURES ===================================\n",
      "<ipython-input-2-24813ad9a017>:3: NameError: name 'Character' is not defined\n",
      "========================== 1 failed in 0.32 seconds ===========================\n"
     ]
    }
   ],
   "source": [
    "%%run_pytest -v --tb=line\n",
    "\n",
    "def test_Character_can_be_created():\n",
    "    assert Character()"
   ]
  },
  {
   "cell_type": "markdown",
   "metadata": {},
   "source": [
    "#### Test failed (because we are yet to define `Character`). \"Refactor\" the code:"
   ]
  },
  {
   "cell_type": "code",
   "execution_count": 3,
   "metadata": {
    "scrolled": true
   },
   "outputs": [
    {
     "name": "stdout",
     "output_type": "stream",
     "text": [
      "============================= test session starts =============================\n",
      "platform win32 -- Python 3.6.5, pytest-3.6.3, py-1.5.4, pluggy-0.6.0\n",
      "rootdir: C:\\Users\\dal189\\Documents\\dnd5e-python, inifile:\n",
      "collected 1 item\n",
      "\n",
      "character_scripting.py .                                                 [100%]\n",
      "\n",
      "========================== 1 passed in 0.07 seconds ===========================\n"
     ]
    }
   ],
   "source": [
    "%%run_pytest\n",
    "\n",
    "class Character(object):\n",
    "    pass"
   ]
  },
  {
   "cell_type": "markdown",
   "metadata": {},
   "source": [
    "### [This process](https://en.wikipedia.org/wiki/Test-driven_development#Test-driven_development_cycle) should be repeated for each new requirement\n",
    "1. **Write** the test(s)\n",
    "```python\n",
    "def test_<test_description>():\n",
    "    # Some code (potentially)\n",
    "    assert true_statement\n",
    "```\n",
    "2. **Run** the tests\n",
    "```python\n",
    "%%run_pytest -v --tb=line\n",
    "```\n",
    "3. **Refactor** (update or write new code - including tests) until all tests pass\n",
    "4. **Repeat** for the next requirement"
   ]
  },
  {
   "cell_type": "markdown",
   "metadata": {},
   "source": [
    "## 2. Initialiase `Character` with some details\n",
    "- A string for each of: `name`, `race`, and `character_class`\n",
    "- An integer for `level`, which defaults to 1"
   ]
  },
  {
   "cell_type": "markdown",
   "metadata": {},
   "source": [
    "1. **Write** the test(s)"
   ]
  },
  {
   "cell_type": "code",
   "execution_count": 4,
   "metadata": {},
   "outputs": [
    {
     "name": "stdout",
     "output_type": "stream",
     "text": [
      "============================= test session starts =============================\n",
      "platform win32 -- Python 3.6.5, pytest-3.6.3, py-1.5.4, pluggy-0.6.0 -- C:\\Users\\dal189\\AppData\\Local\\Continuum\\anaconda3\\envs\\training\\python.exe\n",
      "cachedir: .pytest_cache\n",
      "rootdir: C:\\Users\\dal189\\Documents\\dnd5e-python, inifile:\n",
      "collecting ... collected 6 items\n",
      "\n",
      "character_scripting.py::test_Character_can_be_created <- <ipython-input-2-24813ad9a017> PASSED [ 16%]\n",
      "character_scripting.py::test_Character_for_name <- <ipython-input-4-eab3a64ac030> FAILED [ 33%]\n",
      "character_scripting.py::test_Character_for_race <- <ipython-input-4-eab3a64ac030> FAILED [ 50%]\n",
      "character_scripting.py::test_Character_for_character_class <- <ipython-input-4-eab3a64ac030> FAILED [ 66%]\n",
      "character_scripting.py::test_Character_for_level <- <ipython-input-4-eab3a64ac030> FAILED [ 83%]\n",
      "character_scripting.py::test_Character_for_level_default <- <ipython-input-4-eab3a64ac030> FAILED [100%]\n",
      "\n",
      "================================== FAILURES ===================================\n",
      "<ipython-input-4-eab3a64ac030>:3: TypeError: object() takes no parameters\n",
      "<ipython-input-4-eab3a64ac030>:5: TypeError: object() takes no parameters\n",
      "<ipython-input-4-eab3a64ac030>:7: TypeError: object() takes no parameters\n",
      "<ipython-input-4-eab3a64ac030>:9: TypeError: object() takes no parameters\n",
      "<ipython-input-4-eab3a64ac030>:11: TypeError: object() takes no parameters\n",
      "===================== 5 failed, 1 passed in 0.35 seconds ======================\n"
     ]
    }
   ],
   "source": [
    "%%run_pytest -v --tb=line\n",
    "\n",
    "def test_Character_for_name():\n",
    "    assert \"Merret\" == Character(\"Merret\",\"Halfling\",\"Ranger\", 8).name\n",
    "def test_Character_for_race():\n",
    "    assert \"Halfling\" == Character(\"Merret\",\"Halfling\",\"Ranger\", 8)._race\n",
    "def test_Character_for_character_class():\n",
    "    assert \"Ranger\" == Character(\"Merret\",\"Halfling\",\"Ranger\", 8).character_class\n",
    "def test_Character_for_level():\n",
    "    assert 8 == Character(\"Merret\",\"Halfling\",\"Ranger\", 8).level\n",
    "def test_Character_for_level_default():\n",
    "    assert 1 == Character(\"Merret\",\"Halfling\",\"Ranger\").level\n"
   ]
  },
  {
   "cell_type": "markdown",
   "metadata": {},
   "source": [
    "2. **Run** the tests"
   ]
  },
  {
   "cell_type": "code",
   "execution_count": 5,
   "metadata": {
    "scrolled": true
   },
   "outputs": [
    {
     "name": "stdout",
     "output_type": "stream",
     "text": [
      "============================= test session starts =============================\n",
      "platform win32 -- Python 3.6.5, pytest-3.6.3, py-1.5.4, pluggy-0.6.0 -- C:\\Users\\dal189\\AppData\\Local\\Continuum\\anaconda3\\envs\\training\\python.exe\n",
      "cachedir: .pytest_cache\n",
      "rootdir: C:\\Users\\dal189\\Documents\\dnd5e-python, inifile:\n",
      "collecting ... collected 6 items\n",
      "\n",
      "character_scripting.py::test_Character_can_be_created <- <ipython-input-2-24813ad9a017> FAILED [ 16%]\n",
      "character_scripting.py::test_Character_for_name <- <ipython-input-4-eab3a64ac030> PASSED [ 33%]\n",
      "character_scripting.py::test_Character_for_race <- <ipython-input-4-eab3a64ac030> PASSED [ 50%]\n",
      "character_scripting.py::test_Character_for_character_class <- <ipython-input-4-eab3a64ac030> PASSED [ 66%]\n",
      "character_scripting.py::test_Character_for_level <- <ipython-input-4-eab3a64ac030> PASSED [ 83%]\n",
      "character_scripting.py::test_Character_for_level_default <- <ipython-input-4-eab3a64ac030> PASSED [100%]\n",
      "\n",
      "================================== FAILURES ===================================\n",
      "<ipython-input-2-24813ad9a017>:3: TypeError: __init__() missing 3 required positional arguments: 'name', 'race', and 'character_class'\n",
      "===================== 1 failed, 5 passed in 0.28 seconds ======================\n"
     ]
    }
   ],
   "source": [
    "%%run_pytest -v --tb=line\n",
    "\n",
    "class Character(object):\n",
    "    \n",
    "    def __init__(self, name, race, character_class, level=1):\n",
    "        self.name = name\n",
    "        self._race = race\n",
    "        self.character_class = character_class\n",
    "        self.level = level\n"
   ]
  },
  {
   "cell_type": "markdown",
   "metadata": {},
   "source": [
    "3. **Refactor** - The initial test does not include any inputs to `Character`. Include default values."
   ]
  },
  {
   "cell_type": "code",
   "execution_count": 6,
   "metadata": {},
   "outputs": [
    {
     "name": "stdout",
     "output_type": "stream",
     "text": [
      "============================= test session starts =============================\n",
      "platform win32 -- Python 3.6.5, pytest-3.6.3, py-1.5.4, pluggy-0.6.0 -- C:\\Users\\dal189\\AppData\\Local\\Continuum\\anaconda3\\envs\\training\\python.exe\n",
      "cachedir: .pytest_cache\n",
      "rootdir: C:\\Users\\dal189\\Documents\\dnd5e-python, inifile:\n",
      "collecting ... collected 6 items\n",
      "\n",
      "character_scripting.py::test_Character_can_be_created <- <ipython-input-2-24813ad9a017> PASSED [ 16%]\n",
      "character_scripting.py::test_Character_for_name <- <ipython-input-4-eab3a64ac030> PASSED [ 33%]\n",
      "character_scripting.py::test_Character_for_race <- <ipython-input-4-eab3a64ac030> PASSED [ 50%]\n",
      "character_scripting.py::test_Character_for_character_class <- <ipython-input-4-eab3a64ac030> PASSED [ 66%]\n",
      "character_scripting.py::test_Character_for_level <- <ipython-input-4-eab3a64ac030> PASSED [ 83%]\n",
      "character_scripting.py::test_Character_for_level_default <- <ipython-input-4-eab3a64ac030> PASSED [100%]\n",
      "\n",
      "========================== 6 passed in 0.23 seconds ===========================\n"
     ]
    }
   ],
   "source": [
    "%%run_pytest -v --tb=line\n",
    "\n",
    "class Character(object):\n",
    "    \n",
    "    def __init__(self, name=\"Merret\", race=\"Halfling\", character_class=\"Ranger\", level=1):\n",
    "        self.name = name\n",
    "        self._race = race\n",
    "        self.character_class = character_class\n",
    "        self.level = level\n"
   ]
  },
  {
   "cell_type": "markdown",
   "metadata": {},
   "source": [
    "## 3. Make it that `Character` \"has a\" `Race` and \"has a\" `CharacterClass`\n",
    "- Each is a class of it's own\n",
    "- Build in the ability to check the string with a `__str__` method"
   ]
  },
  {
   "cell_type": "code",
   "execution_count": 7,
   "metadata": {},
   "outputs": [],
   "source": [
    "def test_Character_has_a_Race():\n",
    "    assert isinstance(Character()._race, Race)\n",
    "def test_Character_has_a_CharacterClass():\n",
    "    assert isinstance(Character().character_class, CharacterClass)\n"
   ]
  },
  {
   "cell_type": "code",
   "execution_count": 8,
   "metadata": {},
   "outputs": [
    {
     "name": "stdout",
     "output_type": "stream",
     "text": [
      "============================= test session starts =============================\n",
      "platform win32 -- Python 3.6.5, pytest-3.6.3, py-1.5.4, pluggy-0.6.0 -- C:\\Users\\dal189\\AppData\\Local\\Continuum\\anaconda3\\envs\\training\\python.exe\n",
      "cachedir: .pytest_cache\n",
      "rootdir: C:\\Users\\dal189\\Documents\\dnd5e-python, inifile:\n",
      "collecting ... collected 8 items\n",
      "\n",
      "character_scripting.py::test_Character_can_be_created <- <ipython-input-2-24813ad9a017> PASSED [ 12%]\n",
      "character_scripting.py::test_Character_for_name <- <ipython-input-4-eab3a64ac030> PASSED [ 25%]\n",
      "character_scripting.py::test_Character_for_race <- <ipython-input-4-eab3a64ac030> FAILED [ 37%]\n",
      "character_scripting.py::test_Character_for_character_class <- <ipython-input-4-eab3a64ac030> FAILED [ 50%]\n",
      "character_scripting.py::test_Character_for_level <- <ipython-input-4-eab3a64ac030> PASSED [ 62%]\n",
      "character_scripting.py::test_Character_for_level_default <- <ipython-input-4-eab3a64ac030> PASSED [ 75%]\n",
      "character_scripting.py::test_Character_has_a_Race <- <ipython-input-7-58755c1bd107> PASSED [ 87%]\n",
      "character_scripting.py::test_Character_has_a_CharacterClass <- <ipython-input-7-58755c1bd107> PASSED [100%]\n",
      "\n",
      "================================== FAILURES ===================================\n",
      "<ipython-input-4-eab3a64ac030>:5: AssertionError: assert 'Halfling' == <__main__.Race object at 0x0000024D29BC9C88>\n",
      "<ipython-input-4-eab3a64ac030>:7: AssertionError: assert 'Ranger' == <__main__.CharacterClass object at 0x0000024D29B7A1D0>\n",
      "===================== 2 failed, 6 passed in 0.35 seconds ======================\n"
     ]
    }
   ],
   "source": [
    "%%run_pytest -v --tb=line\n",
    "\n",
    "class Race(object):\n",
    "    \n",
    "    def __init__(self, race):\n",
    "        self._race = race\n",
    "    \n",
    "    def __str__(self):\n",
    "        return self._race\n",
    "\n",
    "\n",
    "class CharacterClass(object):\n",
    "    \n",
    "    def __init__(self, character_class):\n",
    "        self.character_class = character_class\n",
    "    \n",
    "    def __str__(self):\n",
    "        return self.character_class\n",
    "\n",
    "\n",
    "class Character(object):\n",
    "    \n",
    "    def __init__(self, name=\"Merret\", race=\"Halfling\", character_class=\"Ranger\", level=1):\n",
    "        self.name = name\n",
    "        self._race = Race(race) # Changed Line\n",
    "        self.character_class = CharacterClass(character_class) # Changed Line\n",
    "        self.level = level\n"
   ]
  },
  {
   "cell_type": "markdown",
   "metadata": {},
   "source": [
    "#### The new requirement breaks the `test_Character_for_race` and the `test_Character_for_character_class` tests. Refactor the tests to make use of the `__str__` method"
   ]
  },
  {
   "cell_type": "code",
   "execution_count": 9,
   "metadata": {},
   "outputs": [
    {
     "name": "stdout",
     "output_type": "stream",
     "text": [
      "============================= test session starts =============================\n",
      "platform win32 -- Python 3.6.5, pytest-3.6.3, py-1.5.4, pluggy-0.6.0\n",
      "rootdir: C:\\Users\\dal189\\Documents\\dnd5e-python, inifile:\n",
      "collected 8 items\n",
      "\n",
      "character_scripting.py ........                                          [100%]\n",
      "\n",
      "========================== 8 passed in 0.12 seconds ===========================\n"
     ]
    }
   ],
   "source": [
    "%%run_pytest\n",
    "\n",
    "def test_Character_for_race():\n",
    "    assert 'Halfling' == str(Character(race = \"Halfling\")._race)\n",
    "def test_Character_for_character_class():\n",
    "    assert 'Ranger' == str(Character(character_class = \"Ranger\").character_class)"
   ]
  },
  {
   "cell_type": "markdown",
   "metadata": {},
   "source": [
    "## 4. Further develop the `Race` class\n",
    "   - It has subclasses for each race from D&D 5e **TO DO**\n",
    "   - The `__str__` method returns the race name"
   ]
  },
  {
   "cell_type": "code",
   "execution_count": 10,
   "metadata": {},
   "outputs": [],
   "source": [
    "def test_Halfling_is_a_Race():\n",
    "    assert isinstance(Halfling(),Race)"
   ]
  },
  {
   "cell_type": "code",
   "execution_count": 11,
   "metadata": {},
   "outputs": [
    {
     "name": "stdout",
     "output_type": "stream",
     "text": [
      "============================= test session starts =============================\n",
      "platform win32 -- Python 3.6.5, pytest-3.6.3, py-1.5.4, pluggy-0.6.0 -- C:\\Users\\dal189\\AppData\\Local\\Continuum\\anaconda3\\envs\\training\\python.exe\n",
      "cachedir: .pytest_cache\n",
      "rootdir: C:\\Users\\dal189\\Documents\\dnd5e-python, inifile:\n",
      "collecting ... collected 9 items\n",
      "\n",
      "character_scripting.py::test_Halfling_is_a_Race <- <ipython-input-10-66e23be30dc1> PASSED [ 11%]\n",
      "character_scripting.py::test_Character_can_be_created <- <ipython-input-2-24813ad9a017> FAILED [ 22%]\n",
      "character_scripting.py::test_Character_for_name <- <ipython-input-4-eab3a64ac030> FAILED [ 33%]\n",
      "character_scripting.py::test_Character_for_level <- <ipython-input-4-eab3a64ac030> FAILED [ 44%]\n",
      "character_scripting.py::test_Character_for_level_default <- <ipython-input-4-eab3a64ac030> FAILED [ 55%]\n",
      "character_scripting.py::test_Character_has_a_Race <- <ipython-input-7-58755c1bd107> FAILED [ 66%]\n",
      "character_scripting.py::test_Character_has_a_CharacterClass <- <ipython-input-7-58755c1bd107> FAILED [ 77%]\n",
      "character_scripting.py::test_Character_for_race <- <ipython-input-9-79c0606e3b4d> FAILED [ 88%]\n",
      "character_scripting.py::test_Character_for_character_class <- <ipython-input-9-79c0606e3b4d> FAILED [100%]\n",
      "\n",
      "================================== FAILURES ===================================\n",
      "<ipython-input-8-b57830617b50>:24: TypeError: __init__() takes 1 positional argument but 2 were given\n",
      "<ipython-input-8-b57830617b50>:24: TypeError: __init__() takes 1 positional argument but 2 were given\n",
      "<ipython-input-8-b57830617b50>:24: TypeError: __init__() takes 1 positional argument but 2 were given\n",
      "<ipython-input-8-b57830617b50>:24: TypeError: __init__() takes 1 positional argument but 2 were given\n",
      "<ipython-input-8-b57830617b50>:24: TypeError: __init__() takes 1 positional argument but 2 were given\n",
      "<ipython-input-8-b57830617b50>:24: TypeError: __init__() takes 1 positional argument but 2 were given\n",
      "<ipython-input-8-b57830617b50>:24: TypeError: __init__() takes 1 positional argument but 2 were given\n",
      "<ipython-input-8-b57830617b50>:24: TypeError: __init__() takes 1 positional argument but 2 were given\n",
      "===================== 8 failed, 1 passed in 0.52 seconds ======================\n"
     ]
    }
   ],
   "source": [
    "%%run_pytest -v --tb=line\n",
    "\n",
    "class Race(object):\n",
    "    \n",
    "    def __init__(self):\n",
    "        pass\n",
    "    \n",
    "    def __str__(self):\n",
    "        return type(self).__name__\n",
    "\n",
    "    \n",
    "class Halfling(Race):\n",
    "    pass\n"
   ]
  },
  {
   "cell_type": "markdown",
   "metadata": {},
   "source": [
    "#### Must update assignment of `_race` in `Character`"
   ]
  },
  {
   "cell_type": "code",
   "execution_count": 12,
   "metadata": {},
   "outputs": [
    {
     "name": "stdout",
     "output_type": "stream",
     "text": [
      "============================= test session starts =============================\n",
      "platform win32 -- Python 3.6.5, pytest-3.6.3, py-1.5.4, pluggy-0.6.0\n",
      "rootdir: C:\\Users\\dal189\\Documents\\dnd5e-python, inifile:\n",
      "collected 9 items\n",
      "\n",
      "character_scripting.py .........                                         [100%]\n",
      "\n",
      "========================== 9 passed in 0.12 seconds ===========================\n"
     ]
    }
   ],
   "source": [
    "%%run_pytest\n",
    "\n",
    "class Character(object):\n",
    "    \n",
    "    def __init__(self, name=\"Merret\", race=\"Halfling\", character_class=\"Ranger\", level=1):\n",
    "        self.name = name\n",
    "        self._race = globals()[race.title()]() # Changed Line\n",
    "        self.character_class = CharacterClass(character_class)\n",
    "        self.level = level\n"
   ]
  },
  {
   "cell_type": "markdown",
   "metadata": {},
   "source": [
    "## 5. Further develop the `CharacterClass` class\n",
    "   - It has subclasses for each character class from D&D 5e **TO DO**\n",
    "   - The `__str__` method returns the character class name"
   ]
  },
  {
   "cell_type": "code",
   "execution_count": 13,
   "metadata": {},
   "outputs": [],
   "source": [
    "def test_Ranger_is_a_CharacterClass():\n",
    "    assert isinstance(Ranger(),CharacterClass)"
   ]
  },
  {
   "cell_type": "code",
   "execution_count": 14,
   "metadata": {},
   "outputs": [
    {
     "name": "stdout",
     "output_type": "stream",
     "text": [
      "============================= test session starts =============================\n",
      "platform win32 -- Python 3.6.5, pytest-3.6.3, py-1.5.4, pluggy-0.6.0\n",
      "rootdir: C:\\Users\\dal189\\Documents\\dnd5e-python, inifile:\n",
      "collected 10 items\n",
      "\n",
      "character_scripting.py ..........                                        [100%]\n",
      "\n",
      "========================== 10 passed in 0.12 seconds ==========================\n"
     ]
    }
   ],
   "source": [
    "%%run_pytest\n",
    "\n",
    "class CharacterClass(object):\n",
    "    \n",
    "    def __init__(self):\n",
    "        pass\n",
    "    \n",
    "    def __str__(self):\n",
    "        return type(self).__name__\n",
    "\n",
    "    \n",
    "class Ranger(CharacterClass):\n",
    "    pass\n",
    "\n",
    "\n",
    "# Same problem will occur as when changing Race, so adjust this now\n",
    "class Character(object):\n",
    "    \n",
    "    def __init__(self, name=\"Merret\", race=\"Halfling\", character_class=\"Ranger\", level=1):\n",
    "        self.name = name\n",
    "        self._race = globals()[race.title()]()\n",
    "        self.character_class = globals()[character_class.title()]() # Changed Line\n",
    "        self.level = level\n"
   ]
  },
  {
   "cell_type": "code",
   "execution_count": null,
   "metadata": {},
   "outputs": [],
   "source": []
  },
  {
   "cell_type": "code",
   "execution_count": null,
   "metadata": {},
   "outputs": [],
   "source": []
  },
  {
   "cell_type": "code",
   "execution_count": null,
   "metadata": {},
   "outputs": [],
   "source": []
  },
  {
   "cell_type": "code",
   "execution_count": null,
   "metadata": {},
   "outputs": [],
   "source": []
  },
  {
   "cell_type": "code",
   "execution_count": null,
   "metadata": {},
   "outputs": [],
   "source": []
  },
  {
   "cell_type": "code",
   "execution_count": null,
   "metadata": {},
   "outputs": [],
   "source": []
  },
  {
   "cell_type": "code",
   "execution_count": 15,
   "metadata": {},
   "outputs": [],
   "source": [
    "# Main superclass for the Class of a Character\n",
    "# Includes all aspects that are common to all classes\n",
    "class CharacterClass(object):\n",
    "    \n",
    "    def __init__(self):\n",
    "        pass\n",
    "    \n",
    "    def __str__(self):\n",
    "        return type(self).__name__\n",
    "    "
   ]
  },
  {
   "cell_type": "code",
   "execution_count": 16,
   "metadata": {},
   "outputs": [],
   "source": [
    "# Example of specific Character Classes - \"is a\" CharacterClass\n",
    "class Barbarian(CharacterClass):\n",
    "    pass\n",
    "\n",
    "class Bard(CharacterClass):\n",
    "    pass\n",
    "\n",
    "class Ranger(CharacterClass):\n",
    "    pass\n",
    "\n",
    "class Sorceror(CharacterClass):\n",
    "    pass\n"
   ]
  },
  {
   "cell_type": "code",
   "execution_count": 17,
   "metadata": {},
   "outputs": [],
   "source": [
    "# Main superclass for the Race of a Character\n",
    "class Race(object):\n",
    "    \n",
    "    def __init__(self):\n",
    "        pass\n",
    "    \n",
    "    def __str__(self):\n",
    "        return type(self).__name__\n",
    "    "
   ]
  },
  {
   "cell_type": "code",
   "execution_count": 18,
   "metadata": {},
   "outputs": [],
   "source": [
    "# Example of a specific Character Race - \"is a\" Race\n",
    "class Halfling(Race):\n",
    "    pass\n",
    "\n",
    "class Tiefling(Race):\n",
    "    pass\n"
   ]
  },
  {
   "cell_type": "code",
   "execution_count": 19,
   "metadata": {},
   "outputs": [],
   "source": [
    "# Main class for all Characters - \"has a\" Race and Class\n",
    "class Character(object):\n",
    "    \n",
    "    def __init__(self, name, race, character_class, level=1):\n",
    "        self.name = name\n",
    "        self._class = globals()[character_class.title()]()\n",
    "        self._race = globals()[race.title()]()\n",
    "        self.level = level\n",
    "        "
   ]
  },
  {
   "cell_type": "code",
   "execution_count": 20,
   "metadata": {},
   "outputs": [],
   "source": [
    "# Main class for Player Characters - \"is a\" Character\n",
    "class Player(Character):\n",
    "    \n",
    "    def __init__(self, name, race, character_class, ability_scores, level=1):\n",
    "        super().__init__(name, race, character_class, level)\n",
    "        self.__spellcaster = str(self._class) in [\n",
    "            \"Bard\", \"Druid\", \"Ranger\", \"Sorceror\", \"Wizard\", \"Warlock\"]\n",
    "        self.ability_scores = {\n",
    "            \"Strength\" : ability_scores[0],\n",
    "            \"Dexterity\" : ability_scores[1],\n",
    "            \"Constitution\" : ability_scores[2],\n",
    "            \"Intelligence\" : ability_scores[3],\n",
    "            \"Wisdom\" : ability_scores[4],\n",
    "            \"Charisma\" : ability_scores[5]\n",
    "        }\n",
    "        \n",
    "    def __str__(self):\n",
    "        return \"A level {0} {1} {2} called {3}\".format(\n",
    "            self.level, \n",
    "            str(self._race).title(),\n",
    "            str(self._class),\n",
    "            self.name.title())\n",
    "    \n",
    "    def attack(self):\n",
    "        pass"
   ]
  },
  {
   "cell_type": "code",
   "execution_count": 21,
   "metadata": {},
   "outputs": [],
   "source": [
    "# Main class for Non-Player Characters - \"is a\" Character\n",
    "class NonPlayer(Character):\n",
    "    pass"
   ]
  },
  {
   "cell_type": "code",
   "execution_count": 22,
   "metadata": {},
   "outputs": [],
   "source": [
    "merret = Player(\"Merret Strongheart\",\n",
    "                   \"Halfling\",\n",
    "                   \"ranger\",\n",
    "                   [12, 20, 12, 8, 16, 8],\n",
    "                   9)"
   ]
  },
  {
   "cell_type": "code",
   "execution_count": 23,
   "metadata": {},
   "outputs": [
    {
     "name": "stdout",
     "output_type": "stream",
     "text": [
      "Ranger\n"
     ]
    }
   ],
   "source": [
    "print(merret._class)"
   ]
  },
  {
   "cell_type": "code",
   "execution_count": 24,
   "metadata": {},
   "outputs": [
    {
     "data": {
      "text/plain": [
       "True"
      ]
     },
     "execution_count": 24,
     "metadata": {},
     "output_type": "execute_result"
    }
   ],
   "source": [
    "merret._Player__spellcaster"
   ]
  },
  {
   "cell_type": "code",
   "execution_count": 25,
   "metadata": {},
   "outputs": [
    {
     "name": "stdout",
     "output_type": "stream",
     "text": [
      "A level 9 Halfling Ranger called Merret Strongheart\n"
     ]
    }
   ],
   "source": [
    "print(merret)"
   ]
  },
  {
   "cell_type": "code",
   "execution_count": 26,
   "metadata": {},
   "outputs": [],
   "source": [
    "despair = Player(\"Despair\", \"Tiefling\", \"Sorceror\", [9, 11, 15, 14, 13, 20], 8)"
   ]
  },
  {
   "cell_type": "code",
   "execution_count": 27,
   "metadata": {},
   "outputs": [
    {
     "data": {
      "text/plain": [
       "True"
      ]
     },
     "execution_count": 27,
     "metadata": {},
     "output_type": "execute_result"
    }
   ],
   "source": [
    "despair._Player__spellcaster"
   ]
  },
  {
   "cell_type": "code",
   "execution_count": 28,
   "metadata": {},
   "outputs": [
    {
     "name": "stdout",
     "output_type": "stream",
     "text": [
      "A level 8 Tiefling Sorceror called Despair\n"
     ]
    }
   ],
   "source": [
    "print(despair)"
   ]
  },
  {
   "cell_type": "code",
   "execution_count": null,
   "metadata": {},
   "outputs": [],
   "source": []
  }
 ],
 "metadata": {
  "kernelspec": {
   "display_name": "Python 3",
   "language": "python",
   "name": "python3"
  },
  "language_info": {
   "codemirror_mode": {
    "name": "ipython",
    "version": 3
   },
   "file_extension": ".py",
   "mimetype": "text/x-python",
   "name": "python",
   "nbconvert_exporter": "python",
   "pygments_lexer": "ipython3",
   "version": "3.6.5"
  }
 },
 "nbformat": 4,
 "nbformat_minor": 2
}
