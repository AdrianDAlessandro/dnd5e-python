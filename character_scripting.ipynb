{
 "cells": [
  {
   "cell_type": "code",
   "execution_count": 42,
   "metadata": {
    "collapsed": false
   },
   "outputs": [],
   "source": [
    "class CharacterClass(object):\n",
    "    \n",
    "    def __init__(self, _class):\n",
    "        self._class = _class.lower()\n",
    "        \n",
    "    def __str__(self):\n",
    "        return self._class"
   ]
  },
  {
   "cell_type": "code",
   "execution_count": 45,
   "metadata": {
    "collapsed": false
   },
   "outputs": [],
   "source": [
    "class CharacterRace(object):\n",
    "    \n",
    "    def __init__(self, race):\n",
    "        self._race = race.lower()\n",
    "        \n",
    "    def __str__(self):\n",
    "        return self._race"
   ]
  },
  {
   "cell_type": "code",
   "execution_count": 46,
   "metadata": {
    "collapsed": false
   },
   "outputs": [],
   "source": [
    "class Player(object):\n",
    "    \n",
    "    def __init__(self, name, race, _class, ability_scores, level=1):\n",
    "        self.name = name\n",
    "        self._race = CharacterRace(race)\n",
    "        self._class = CharacterClass(_class)\n",
    "        self.level = level\n",
    "        self.__spellcaster = str(self._class) in [\n",
    "            \"bard\", \"druid\", \"ranger\", \"sorceror\", \"wizard\", \"warlock\"]\n",
    "        self.ability_scores = {\n",
    "            \"Strength\" : ability_scores[0],\n",
    "            \"Dexterity\" : ability_scores[1],\n",
    "            \"Constitution\" : ability_scores[2],\n",
    "            \"Intelligence\" : ability_scores[3],\n",
    "            \"Wisdom\" : ability_scores[4],\n",
    "            \"Charisma\" : ability_scores[5]\n",
    "        }\n",
    "        \n",
    "    def __str__(self):\n",
    "        return \"A level {0} {1} {2} called {3}\".format(\n",
    "            self.level, \n",
    "            str(self._race).title(),\n",
    "            str(self._class).title(),\n",
    "            self.name.title())\n",
    "    \n",
    "    def attack(self):\n",
    "        pass"
   ]
  },
  {
   "cell_type": "code",
   "execution_count": 47,
   "metadata": {
    "collapsed": false
   },
   "outputs": [],
   "source": [
    "player1 = Player(\"Merret Strongheart\",\n",
    "                   \"Halfling\",\n",
    "                   \"Ranger\",\n",
    "                   [12, 20, 12, 8, 16, 8],\n",
    "                   9)"
   ]
  },
  {
   "cell_type": "code",
   "execution_count": 48,
   "metadata": {
    "collapsed": false
   },
   "outputs": [
    {
     "name": "stdout",
     "output_type": "stream",
     "text": [
      "ranger\n"
     ]
    }
   ],
   "source": [
    "print(player1._class)"
   ]
  },
  {
   "cell_type": "code",
   "execution_count": 49,
   "metadata": {
    "collapsed": false
   },
   "outputs": [
    {
     "data": {
      "text/plain": [
       "True"
      ]
     },
     "execution_count": 49,
     "metadata": {},
     "output_type": "execute_result"
    }
   ],
   "source": [
    "player1._Player__spellcaster"
   ]
  },
  {
   "cell_type": "code",
   "execution_count": 50,
   "metadata": {
    "collapsed": false
   },
   "outputs": [
    {
     "name": "stdout",
     "output_type": "stream",
     "text": [
      "A level 9 Halfling Ranger called Merret Strongheart\n"
     ]
    }
   ],
   "source": [
    "print(player1)"
   ]
  },
  {
   "cell_type": "code",
   "execution_count": 51,
   "metadata": {
    "collapsed": false
   },
   "outputs": [],
   "source": [
    "player2 = Player(\"Despair\", \"Tiefling\", \"Sorceror\", [9, 11, 15, 14, 13, 20], 8)"
   ]
  },
  {
   "cell_type": "code",
   "execution_count": 52,
   "metadata": {
    "collapsed": false
   },
   "outputs": [
    {
     "data": {
      "text/plain": [
       "True"
      ]
     },
     "execution_count": 52,
     "metadata": {},
     "output_type": "execute_result"
    }
   ],
   "source": [
    "player2._Player__spellcaster"
   ]
  },
  {
   "cell_type": "code",
   "execution_count": 53,
   "metadata": {
    "collapsed": false
   },
   "outputs": [
    {
     "name": "stdout",
     "output_type": "stream",
     "text": [
      "A level 8 Tiefling Sorceror called Despair\n"
     ]
    }
   ],
   "source": [
    "print(player2)"
   ]
  },
  {
   "cell_type": "code",
   "execution_count": null,
   "metadata": {
    "collapsed": true
   },
   "outputs": [],
   "source": []
  }
 ],
 "metadata": {
  "kernelspec": {
   "display_name": "Python 3",
   "language": "python",
   "name": "python3"
  },
  "language_info": {
   "codemirror_mode": {
    "name": "ipython",
    "version": 3
   },
   "file_extension": ".py",
   "mimetype": "text/x-python",
   "name": "python",
   "nbconvert_exporter": "python",
   "pygments_lexer": "ipython3",
   "version": "3.6.0"
  }
 },
 "nbformat": 4,
 "nbformat_minor": 2
}
