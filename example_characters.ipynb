{
 "cells": [
  {
   "cell_type": "markdown",
   "metadata": {},
   "source": [
    "# Example Characters\n",
    "\n",
    "### Some examples of characters made using the `dnd5e` python module"
   ]
  },
  {
   "cell_type": "code",
   "execution_count": null,
   "metadata": {},
   "outputs": [],
   "source": [
    "from dnd5e import *"
   ]
  },
  {
   "cell_type": "code",
   "execution_count": null,
   "metadata": {},
   "outputs": [],
   "source": [
    "default = Character()\n",
    "print(default)\n",
    "\n",
    "merret = Player(\"Merret Strongheart\",\n",
    "                \"Halfling\",\n",
    "                \"ranger\",\n",
    "                #[12, 20, 12, 8, 16, 8],\n",
    "                9)\n",
    "print(merret.character_class)\n",
    "print(merret.character_class.spellcaster)\n",
    "print(merret)\n",
    "\n",
    "despair = Player(\"Despair\",\n",
    "                 \"Tiefling\",\n",
    "                 \"Sorcerer\",\n",
    "                 #[9, 11, 15, 14, 13, 20],\n",
    "                 8)\n",
    "print(despair.character_class.spellcaster)\n",
    "print(despair)"
   ]
  },
  {
   "cell_type": "code",
   "execution_count": null,
   "metadata": {},
   "outputs": [],
   "source": []
  }
 ],
 "metadata": {
  "kernelspec": {
   "display_name": "Python 3",
   "language": "python",
   "name": "python3"
  },
  "language_info": {
   "codemirror_mode": {
    "name": "ipython",
    "version": 3
   },
   "file_extension": ".py",
   "mimetype": "text/x-python",
   "name": "python",
   "nbconvert_exporter": "python",
   "pygments_lexer": "ipython3",
   "version": "3.6.6"
  }
 },
 "nbformat": 4,
 "nbformat_minor": 2
}
