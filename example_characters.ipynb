{
 "cells": [
  {
   "cell_type": "markdown",
   "metadata": {},
   "source": [
    "# Example Characters\n",
    "\n",
    "### Some examples of characters made using the `dnd5e` python module"
   ]
  },
  {
   "cell_type": "code",
   "execution_count": 2,
   "metadata": {},
   "outputs": [],
   "source": [
    "from dnd5e import *"
   ]
  },
  {
   "cell_type": "code",
   "execution_count": 18,
   "metadata": {},
   "outputs": [
    {
     "name": "stdout",
     "output_type": "stream",
     "text": [
      "A level 1 Halfling Paladin called Merret\n",
      "Ranger\n",
      "True\n",
      "A level 9 Halfling Ranger called Merret Strongheart\n",
      "True\n",
      "A level 8 Tiefling Sorcerer called Despair\n"
     ]
    }
   ],
   "source": [
    "default = Character()\n",
    "print(default)\n",
    "\n",
    "merret = Player(name=\"Merret Strongheart\",\n",
    "                race=\"Halfling\",\n",
    "                character_class=\"ranger\",\n",
    "                ability_scores=[12, 20, 12, 8, 16, 8],\n",
    "                level=9)\n",
    "print(merret.character_class)\n",
    "print(merret.character_class.spellcaster)\n",
    "print(merret)\n",
    "\n",
    "despair = Player(name=\"Despair\",\n",
    "                 race=\"Tiefling\",\n",
    "                 character_class=\"Sorcerer\",\n",
    "                 ability_scores=[9, 11, 15, 14, 13, 20],\n",
    "                 level=8)\n",
    "print(despair.character_class.spellcaster)\n",
    "print(despair)"
   ]
  },
  {
   "cell_type": "code",
   "execution_count": null,
   "metadata": {},
   "outputs": [],
   "source": []
  }
 ],
 "metadata": {
  "kernelspec": {
   "display_name": "Python 3",
   "language": "python",
   "name": "python3"
  },
  "language_info": {
   "codemirror_mode": {
    "name": "ipython",
    "version": 3
   },
   "file_extension": ".py",
   "mimetype": "text/x-python",
   "name": "python",
   "nbconvert_exporter": "python",
   "pygments_lexer": "ipython3",
   "version": "3.6.5"
  }
 },
 "nbformat": 4,
 "nbformat_minor": 2
}
